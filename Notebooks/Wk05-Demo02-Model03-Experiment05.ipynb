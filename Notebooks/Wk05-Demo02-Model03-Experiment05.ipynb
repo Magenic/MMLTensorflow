{
 "cells": [
  {
   "cell_type": "code",
   "execution_count": 4,
   "metadata": {
    "scrolled": true
   },
   "outputs": [],
   "source": [
    "import tensorflow as tf\n",
    "import pandas as pd\n",
    "import matplotlib.pyplot as plt\n",
    "from tensorflow import keras\n",
    "import numpy as np\n",
    "import math\n",
    "\n",
    "RESHAPED = 1\n",
    "NB_CLASSES = 1\n",
    "DROPOUT = 0.3\n",
    "N_HIDDEN = 512\n",
    "BATCH_SIZE = 15\n",
    "EPOCHS = 17\n",
    "VERBOSE = 1\n",
    "VALIDATION_SPLIT = 0.2\n",
    "\n",
    "TRANSFORMATION = 3\n",
    "\n",
    "DATA_URL = \"https://covid.ourworldindata.org/data/owid-covid-data.csv\"\n",
    "LABEL_COLUMN = 'total_deaths'\n",
    "    \n",
    "file_path = tf.keras.utils.get_file(\"owid-covid-data.csv\", DATA_URL)\n",
    "\n",
    "SELECT_COLUMNS = ['iso_code', 'total_cases', 'total_deaths']\n",
    "DEFAULTS = ['', 0.0, 0.0]\n",
    "\n",
    "def apply_transformation(original_value):\n",
    "    return (original_value/100000)**TRANSFORMATION\n",
    "\n",
    "def get_dataset(file_path, **kwargs):\n",
    "    dataset = tf.data.experimental.make_csv_dataset(\n",
    "      file_path,\n",
    "      batch_size=1, # Artificially small to make examples easier to show.\n",
    "      label_name=LABEL_COLUMN,\n",
    "      na_value=\"?\",\n",
    "      num_epochs=1,\n",
    "      ignore_errors=True, \n",
    "      shuffle=True,\n",
    "      **kwargs)\n",
    "    return dataset\n",
    "\n",
    "covid_dataset = get_dataset(file_path, select_columns=SELECT_COLUMNS, column_defaults = DEFAULTS)\n",
    "            \n",
    "def convert_to_train_test_data(dataset, test_percent = 0.05):\n",
    "    total_deaths = []\n",
    "    transformed_total_cases = []\n",
    "    total_cases = []\n",
    "    for independent, dependent in dataset.as_numpy_iterator():\n",
    "        if independent.get('iso_code')[0] == b'USA':\n",
    "            total_deaths.append(dependent[0])\n",
    "            transformed_total_cases.append([apply_transformation(independent.get('total_cases')[0])])\n",
    "            total_cases.append([independent.get('total_cases')[0]])\n",
    "    testRecordCount = int(round(test_percent*len(total_deaths)))\n",
    "    return transformed_total_cases[testRecordCount:], total_cases[testRecordCount:], total_deaths[testRecordCount:], transformed_total_cases[:testRecordCount], total_cases[:testRecordCount], total_deaths[:testRecordCount]\n",
    "    \n",
    "x_train_transformed, x_train, y_train, x_test_transformed, x_test, y_test = convert_to_train_test_data(covid_dataset, test_percent=0.05)\n",
    "\n",
    "\n",
    "features = ['total_cases']\n",
    "\n",
    "def create_model(hidden_layers, input_shape, dropout, output_classes):\n",
    "    opt = keras.optimizers.RMSprop(learning_rate=0.001)\n",
    "\n",
    "    model = tf.keras.models.Sequential()\n",
    "    model.add(keras.layers.Dense(hidden_layers, input_shape=(input_shape,), name='input_dense_layer',activation='relu'))\n",
    "    model.add(keras.layers.Dropout(dropout))\n",
    "    model.add(keras.layers.Dense(hidden_layers, name='hidden_dense_layer',activation='relu'))\n",
    "    model.add(keras.layers.Dropout(dropout))\n",
    "    model.add(keras.layers.Dense(output_classes, name='output_dense_layer'))\n",
    "    \n",
    "    model.compile(optimizer=opt, loss='mse', metrics=['accuracy'])\n",
    "    \n",
    "    return model"
   ]
  },
  {
   "cell_type": "code",
   "execution_count": 5,
   "metadata": {},
   "outputs": [
    {
     "name": "stdout",
     "output_type": "stream",
     "text": [
      "Train on 86 samples, validate on 22 samples\n",
      "Epoch 1/17\n",
      "86/86 [==============================] - 1s 8ms/sample - loss: 121891694.0698 - accuracy: 0.5116 - val_loss: 146931966.1818 - val_accuracy: 0.0455\n",
      "Epoch 2/17\n",
      "86/86 [==============================] - 0s 599us/sample - loss: 116337183.1628 - accuracy: 0.0233 - val_loss: 139366518.9091 - val_accuracy: 0.0455\n",
      "Epoch 3/17\n",
      "86/86 [==============================] - 0s 674us/sample - loss: 110396243.1395 - accuracy: 0.0000e+00 - val_loss: 130858749.8182 - val_accuracy: 0.0455\n",
      "Epoch 4/17\n",
      "86/86 [==============================] - 0s 749us/sample - loss: 102929940.8081 - accuracy: 0.0000e+00 - val_loss: 120845400.7273 - val_accuracy: 0.0455\n",
      "Epoch 5/17\n",
      "86/86 [==============================] - 0s 703us/sample - loss: 94927400.5669 - accuracy: 0.0000e+00 - val_loss: 110219086.1818 - val_accuracy: 0.0455\n",
      "Epoch 6/17\n",
      "86/86 [==============================] - 0s 751us/sample - loss: 85424145.3953 - accuracy: 0.0000e+00 - val_loss: 99579754.1818 - val_accuracy: 0.0455\n",
      "Epoch 7/17\n",
      "86/86 [==============================] - 0s 767us/sample - loss: 76939353.0233 - accuracy: 0.0000e+00 - val_loss: 88961016.0000 - val_accuracy: 0.0455\n",
      "Epoch 8/17\n",
      "86/86 [==============================] - 0s 773us/sample - loss: 69368953.5901 - accuracy: 0.0000e+00 - val_loss: 78609362.5455 - val_accuracy: 0.0455\n",
      "Epoch 9/17\n",
      "86/86 [==============================] - 0s 861us/sample - loss: 62606503.1163 - accuracy: 0.0000e+00 - val_loss: 67404367.2727 - val_accuracy: 0.0455\n",
      "Epoch 10/17\n",
      "86/86 [==============================] - 0s 711us/sample - loss: 53797476.4884 - accuracy: 0.0000e+00 - val_loss: 56683506.9091 - val_accuracy: 0.0455\n",
      "Epoch 11/17\n",
      "86/86 [==============================] - 0s 704us/sample - loss: 45051686.3256 - accuracy: 0.0000e+00 - val_loss: 45426326.3636 - val_accuracy: 0.0455\n",
      "Epoch 12/17\n",
      "86/86 [==============================] - 0s 860us/sample - loss: 35071750.9709 - accuracy: 0.0000e+00 - val_loss: 35270074.9091 - val_accuracy: 0.0455\n",
      "Epoch 13/17\n",
      "86/86 [==============================] - 0s 765us/sample - loss: 26678583.7674 - accuracy: 0.0000e+00 - val_loss: 26254811.7273 - val_accuracy: 0.0455\n",
      "Epoch 14/17\n",
      "86/86 [==============================] - 0s 691us/sample - loss: 19385677.3023 - accuracy: 0.0000e+00 - val_loss: 17599966.9091 - val_accuracy: 0.0455\n",
      "Epoch 15/17\n",
      "86/86 [==============================] - 0s 682us/sample - loss: 15809162.0434 - accuracy: 0.0000e+00 - val_loss: 12348792.9091 - val_accuracy: 0.0455\n",
      "Epoch 16/17\n",
      "86/86 [==============================] - 0s 743us/sample - loss: 11448929.7326 - accuracy: 0.0000e+00 - val_loss: 8967116.7273 - val_accuracy: 0.0455\n",
      "Epoch 17/17\n",
      "86/86 [==============================] - 0s 626us/sample - loss: 7543068.3299 - accuracy: 0.0000e+00 - val_loss: 7442302.2955 - val_accuracy: 0.0455\n",
      "WARNING:tensorflow:From /usr/local/lib/python3.6/dist-packages/tensorflow_core/python/ops/resource_variable_ops.py:1786: calling BaseResourceVariable.__init__ (from tensorflow.python.ops.resource_variable_ops) with constraint is deprecated and will be removed in a future version.\n",
      "Instructions for updating:\n",
      "If using Keras pass *_constraint arguments to layers.\n",
      "INFO:tensorflow:Assets written to: saved_models/COVID_19/1/assets\n",
      "6/6 [==============================] - 0s 757us/sample - loss: 231692.5156 - accuracy: 0.0000e+00\n",
      "\n",
      "Test accuracy: 0.0\n",
      "Test loss: 231692.515625\n"
     ]
    },
    {
     "data": {
      "text/plain": [
       "<matplotlib.legend.Legend at 0x7f2180ef2320>"
      ]
     },
     "execution_count": 5,
     "metadata": {},
     "output_type": "execute_result"
    },
    {
     "data": {
      "image/png": "[encoded data removed]",
      "text/plain": [
       "<Figure size 432x288 with 1 Axes>"
      ]
     },
     "metadata": {
      "needs_background": "light"
     },
     "output_type": "display_data"
    }
   ],
   "source": [
    "model = create_model(N_HIDDEN, RESHAPED, DROPOUT, NB_CLASSES)\n",
    "\n",
    "history = model.fit(np.array(x_train_transformed), np.array(y_train), batch_size=BATCH_SIZE, epochs=EPOCHS, verbose=VERBOSE, validation_split=VALIDATION_SPLIT)\n",
    "\n",
    "model.save('saved_models/COVID_19/1')\n",
    "\n",
    "test_loss, test_acc = model.evaluate(np.array(x_test_transformed), np.array(y_test))\n",
    "print()\n",
    "print('Test accuracy:', test_acc)\n",
    "print('Test loss:', test_loss)\n",
    "\n",
    "train_loss = history.history['loss']\n",
    "validation_loss = history.history['val_loss']\n",
    "\n",
    "epochs = range(1, len(validation_loss)+1)\n",
    "\n",
    "fig, ax = plt.subplots()  # Create a figure and an axes.\n",
    "ax.plot(epochs, train_loss, label='train loss')\n",
    "ax.plot(epochs, validation_loss, label='validation loss')\n",
    "ax.set_xlabel('epoch')  # Add an x-label to the axes.\n",
    "ax.set_ylabel('loss')  # Add a y-label to the axes.\n",
    "ax.set_title(\"Simple Plot\")  # Add a title to the axes.\n",
    "ax.legend() \n"
   ]
  },
  {
   "cell_type": "code",
   "execution_count": 6,
   "metadata": {},
   "outputs": [
    {
     "name": "stdout",
     "output_type": "stream",
     "text": [
      "[1000.0]\n",
      "deaths: [90567.516]\n"
     ]
    }
   ],
   "source": [
    "CASE_COUNT = 1000000\n",
    "FUTURE_CASES = [CASE_COUNT]\n",
    "FUTURE_CASES_TANSFORMED = [apply_transformation(CASE_COUNT)]\n",
    "FUTURE_PREDICTION = []\n",
    "\n",
    "print(FUTURE_CASES_TANSFORMED)\n",
    "\n",
    "pred_deaths = model.predict(FUTURE_CASES_TANSFORMED)\n",
    "\n",
    "for deaths in pred_deaths:\n",
    "    print(\"deaths:\", deaths)"
   ]
  },
  {
   "cell_type": "code",
   "execution_count": null,
   "metadata": {},
   "outputs": [],
   "source": []
  }
 ],
 "metadata": {
  "kernelspec": {
   "display_name": "Python 3",
   "language": "python",
   "name": "python3"
  },
  "language_info": {
   "codemirror_mode": {
    "name": "ipython",
    "version": 3
   },
   "file_extension": ".py",
   "mimetype": "text/x-python",
   "name": "python",
   "nbconvert_exporter": "python",
   "pygments_lexer": "ipython3",
   "version": "3.6.9"
  }
 },
 "nbformat": 4,
 "nbformat_minor": 4
}
