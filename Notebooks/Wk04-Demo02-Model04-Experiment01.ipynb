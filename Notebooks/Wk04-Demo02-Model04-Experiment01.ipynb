{
 "cells": [
  {
   "cell_type": "code",
   "execution_count": null,
   "metadata": {},
   "outputs": [],
   "source": [
    "\n"
   ]
  },
  {
   "cell_type": "code",
   "execution_count": 29,
   "metadata": {
    "scrolled": true
   },
   "outputs": [
    {
     "name": "stdout",
     "output_type": "stream",
     "text": [
      "INFO:tensorflow:Using default config.\n",
      "INFO:tensorflow:Using config: {'_model_dir': 'logs/func/', '_tf_random_seed': None, '_save_summary_steps': 100, '_save_checkpoints_steps': None, '_save_checkpoints_secs': 600, '_session_config': allow_soft_placement: true\n",
      "graph_options {\n",
      "  rewrite_options {\n",
      "    meta_optimizer_iterations: ONE\n",
      "  }\n",
      "}\n",
      ", '_keep_checkpoint_max': 5, '_keep_checkpoint_every_n_hours': 10000, '_log_step_count_steps': 100, '_train_distribute': None, '_device_fn': None, '_protocol': None, '_eval_distribute': None, '_experimental_distribute': None, '_experimental_max_worker_delay_secs': None, '_session_creation_timeout_secs': 7200, '_service': None, '_cluster_spec': ClusterSpec({}), '_task_type': 'worker', '_task_id': 0, '_global_id_in_cluster': 0, '_master': '', '_evaluation_master': '', '_is_chief': True, '_num_ps_replicas': 0, '_num_worker_replicas': 1}\n",
      "INFO:tensorflow:Calling model_fn.\n",
      "INFO:tensorflow:Done calling model_fn.\n",
      "INFO:tensorflow:Create CheckpointSaverHook.\n",
      "INFO:tensorflow:Graph was finalized.\n",
      "INFO:tensorflow:Restoring parameters from logs/func/model.ckpt-1640\n",
      "INFO:tensorflow:Running local_init_op.\n",
      "INFO:tensorflow:Done running local_init_op.\n",
      "INFO:tensorflow:Saving checkpoints for 1640 into logs/func/model.ckpt.\n",
      "INFO:tensorflow:loss = 33.37248, step = 1640\n",
      "INFO:tensorflow:global_step/sec: 53.9005\n",
      "INFO:tensorflow:loss = 30.926378, step = 1740 (1.861 sec)\n",
      "INFO:tensorflow:Saving checkpoints for 1780 into logs/func/model.ckpt.\n",
      "INFO:tensorflow:Loss for final step: 32.574394.\n",
      "INFO:tensorflow:Calling model_fn.\n",
      "INFO:tensorflow:Done calling model_fn.\n",
      "INFO:tensorflow:Starting evaluation at 2020-04-24T17:07:46Z\n",
      "INFO:tensorflow:Graph was finalized.\n",
      "INFO:tensorflow:Restoring parameters from logs/func/model.ckpt-1780\n",
      "INFO:tensorflow:Running local_init_op.\n",
      "INFO:tensorflow:Done running local_init_op.\n",
      "INFO:tensorflow:Inference Time : 2.55105s\n",
      "INFO:tensorflow:Finished evaluation at 2020-04-24-17:07:49\n",
      "INFO:tensorflow:Saving dict for global step 1780: average_loss = 42.39840634788076, global_step = 1780, label/mean = 23.07843137254902, loss = 42.66347, prediction/mean = 22.21727271641002\n",
      "INFO:tensorflow:Saving 'checkpoint_path' summary for global step 1780: logs/func/model.ckpt-1780\n",
      "{'average_loss': 42.39840634788076, 'label/mean': 23.07843137254902, 'loss': 42.66347, 'prediction/mean': 22.21727271641002, 'global_step': 1780}\n",
      "INFO:tensorflow:Calling model_fn.\n",
      "INFO:tensorflow:Done calling model_fn.\n",
      "INFO:tensorflow:Starting evaluation at 2020-04-24T17:07:53Z\n",
      "INFO:tensorflow:Graph was finalized.\n",
      "INFO:tensorflow:Restoring parameters from logs/func/model.ckpt-1780\n",
      "INFO:tensorflow:Running local_init_op.\n",
      "INFO:tensorflow:Done running local_init_op.\n",
      "INFO:tensorflow:Inference Time : 2.14239s\n",
      "INFO:tensorflow:Finished evaluation at 2020-04-24-17:07:55\n",
      "INFO:tensorflow:Saving dict for global step 1780: average_loss = 42.39840634788076, global_step = 1780, label/mean = 23.07843137254902, loss = 42.66347, prediction/mean = 22.21727271641002\n",
      "INFO:tensorflow:Saving 'checkpoint_path' summary for global step 1780: logs/func/model.ckpt-1780\n",
      "{'average_loss': 42.39840634788076, 'label/mean': 23.07843137254902, 'loss': 42.66347, 'prediction/mean': 22.21727271641002, 'global_step': 1780}\n",
      "INFO:tensorflow:Calling model_fn.\n",
      "INFO:tensorflow:Done calling model_fn.\n",
      "INFO:tensorflow:Graph was finalized.\n",
      "INFO:tensorflow:Restoring parameters from logs/func/model.ckpt-1780\n",
      "INFO:tensorflow:Running local_init_op.\n",
      "INFO:tensorflow:Done running local_init_op.\n",
      "Predicted Value:  3.1604486 Expected: 7.2\n",
      "Predicted Value:  20.156166 Expected: 18.8\n",
      "Predicted Value:  21.603264 Expected: 19.0\n",
      "Predicted Value:  30.410383 Expected: 27.0\n",
      "Predicted Value:  23.112688 Expected: 22.2\n",
      "Predicted Value:  17.88992 Expected: 24.5\n",
      "Predicted Value:  29.63461 Expected: 31.2\n",
      "Predicted Value:  25.524761 Expected: 22.9\n",
      "Predicted Value:  17.90577 Expected: 20.5\n",
      "Predicted Value:  21.795433 Expected: 23.2\n",
      "Predicted Value:  16.869242 Expected: 18.6\n",
      "Predicted Value:  23.650219 Expected: 14.5\n",
      "Predicted Value:  19.362177 Expected: 17.8\n",
      "Predicted Value:  28.068485 Expected: 50.0\n",
      "Predicted Value:  18.83914 Expected: 20.8\n",
      "Predicted Value:  22.923134 Expected: 24.3\n",
      "Predicted Value:  19.567602 Expected: 24.2\n",
      "Predicted Value:  19.178928 Expected: 19.8\n",
      "Predicted Value:  21.135868 Expected: 19.1\n",
      "Predicted Value:  29.232506 Expected: 22.7\n",
      "Predicted Value:  12.646257 Expected: 12.0\n",
      "Predicted Value:  8.611473 Expected: 10.2\n",
      "Predicted Value:  20.837225 Expected: 20.0\n",
      "Predicted Value:  18.764503 Expected: 18.5\n",
      "Predicted Value:  26.11278 Expected: 20.9\n",
      "Predicted Value:  23.048742 Expected: 23.0\n",
      "Predicted Value:  29.898533 Expected: 27.5\n",
      "Predicted Value:  33.8471 Expected: 30.1\n",
      "Predicted Value:  7.833846 Expected: 9.5\n",
      "Predicted Value:  20.946835 Expected: 22.0\n",
      "Predicted Value:  21.590717 Expected: 21.2\n",
      "Predicted Value:  11.924449 Expected: 14.1\n"
     ]
    }
   ],
   "source": [
    "import tensorflow as tf\n",
    "import pandas as pd\n",
    "from tensorflow import feature_column as fc \n",
    "from tensorflow.keras.datasets import boston_housing\n",
    "import matplotlib.pyplot as plt\n",
    "\n",
    "(x_train, y_train), (x_test, y_test) = boston_housing.load_data()\n",
    "\n",
    "tf.keras.backend.set_floatx('float64')\n",
    "tf.__version__\n",
    "#tf.estimator.Estimator._validate_features_in_predict_input = lambda *args: None\n",
    "\n",
    "features = ['CRIM', 'ZN', 'INDUS','CHAS','NOX','RM','AGE',\n",
    "            'DIS', 'RAD', 'TAX', 'PTRATIO', 'B', 'LSTAT']\n",
    " \n",
    "x_train_df = pd.DataFrame(x_train, columns= features)\n",
    "x_test_df = pd.DataFrame(x_test, columns= features)\n",
    "y_train_df = pd.DataFrame(y_train, columns=['MEDV'])\n",
    "y_test_df = pd.DataFrame(y_test, columns=['MEDV'])\n",
    "x_train_df.head()\n",
    "\n",
    "feature_columns = []\n",
    "for feature_name in features:\n",
    "    feature_columns.append(fc.numeric_column(feature_name, dtype=tf.float32))\n",
    "\n",
    "#print(feature_columns)\n",
    "    \n",
    "def estimator_input_fn(df_data, df_label, epochs=20, shuffle=True, batch_size=64):\n",
    "    def input_function():\n",
    "        ds = tf.data.Dataset.from_tensor_slices((dict(df_data), df_label))\n",
    "        if shuffle:\n",
    "            ds = ds.shuffle(100)\n",
    "        ds = ds.batch(batch_size).repeat(epochs)\n",
    "        return ds\n",
    "    return input_function\n",
    "\n",
    "train_input_fn = estimator_input_fn(x_train_df, y_train_df)\n",
    "val_input_fn = estimator_input_fn(x_test_df, y_test_df, epochs=1, shuffle=False)\n",
    "\n",
    "\n",
    "linear_est = tf.estimator.LinearRegressor(feature_columns=feature_columns, model_dir = 'logs/func/')\n",
    "linear_est.train(train_input_fn, steps=1000)\n",
    "result = linear_est.evaluate(val_input_fn)\n",
    "print(result)\n",
    "\n",
    "result = linear_est.evaluate(val_input_fn)\n",
    "\n",
    "print(result)\n",
    "\n",
    "result = linear_est.predict(val_input_fn)\n",
    "\n",
    "for pred, exp in zip(result, y_test[:32]):\n",
    "    print(\"Predicted Value: \", pred['predictions'][0], \"Expected:\", exp)\n"
   ]
  },
  {
   "cell_type": "code",
   "execution_count": 60,
   "metadata": {},
   "outputs": [
    {
     "name": "stdout",
     "output_type": "stream",
     "text": [
      "INFO:tensorflow:Calling model_fn.\n",
      "INFO:tensorflow:Done calling model_fn.\n",
      "INFO:tensorflow:Graph was finalized.\n",
      "INFO:tensorflow:Restoring parameters from logs/func/model.ckpt-1780\n",
      "INFO:tensorflow:Running local_init_op.\n",
      "INFO:tensorflow:Done running local_init_op.\n",
      "INFO:tensorflow:Calling model_fn.\n",
      "INFO:tensorflow:Done calling model_fn.\n",
      "INFO:tensorflow:Graph was finalized.\n",
      "INFO:tensorflow:Restoring parameters from logs/func/model.ckpt-1780\n",
      "INFO:tensorflow:Running local_init_op.\n",
      "INFO:tensorflow:Done running local_init_op.\n"
     ]
    },
    {
     "data": {
      "text/plain": [
       "<matplotlib.legend.Legend at 0x7f7763b1eb70>"
      ]
     },
     "execution_count": 60,
     "metadata": {},
     "output_type": "execute_result"
    },
    {
     "data": {
      "image/png": "[encoded data removed]",
      "text/plain": [
       "<Figure size 432x288 with 1 Axes>"
      ]
     },
     "metadata": {
      "needs_background": "light"
     },
     "output_type": "display_data"
    }
   ],
   "source": [
    "\n",
    "pred_traning = linear_est.predict(train_input_fn)\n",
    "\n",
    "DISPLAY_INDEX = 0\n",
    "\n",
    "PREDICTED_INDEPENDANT = []\n",
    "PREDICTED_DEPENDANT = []\n",
    "TRAINING_INDEPENDANT = []\n",
    "TRAINING_DEPENDANT = []\n",
    "VAL_INDEPENDANT = []\n",
    "VAL_DEPENDANT = []\n",
    "\n",
    "for pred, exp in zip(pred_traning, y_test):\n",
    "    PREDICTED_INDEPENDANT.append(x_train[count][DISPLAY_INDEX])\n",
    "    PREDICTED_DEPENDANT.append(pred['predictions'][0])\n",
    "    TRAINING_INDEPENDANT.append(x_train[count][DISPLAY_INDEX])\n",
    "    TRAINING_DEPENDANT.append(exp)\n",
    "    count += 1\n",
    "\n",
    "pred_validation = linear_est.predict(val_input_fn)\n",
    "\n",
    "count = 0\n",
    "for pred, exp in zip(pred_validation, y_test):\n",
    "    PREDICTED_INDEPENDANT.append(x_test[count][DISPLAY_INDEX])\n",
    "    PREDICTED_DEPENDANT.append(pred['predictions'][0])\n",
    "    VAL_INDEPENDANT.append(x_test[count][DISPLAY_INDEX])\n",
    "    VAL_DEPENDANT.append(exp)\n",
    "    count += 1\n",
    "\n",
    "    \n",
    "fig, ax = plt.subplots()  # Create a figure and an axes.\n",
    "ax.plot(TRAINING_INDEPENDANT, TRAINING_DEPENDANT, label='training data', linewidth=0, marker='.')\n",
    "ax.plot(VAL_INDEPENDANT, VAL_DEPENDANT, label='test data', linewidth=0, marker='.')\n",
    "ax.plot(PREDICTED_INDEPENDANT, PREDICTED_DEPENDANT, label='prediction values', linewidth=0, marker='.')\n",
    "ax.set_xlabel(features[DISPLAY_INDEX])  # Add an x-label to the axes.\n",
    "ax.set_ylabel('MEDV')  # Add a y-label to the axes.\n",
    "ax.legend() \n"
   ]
  },
  {
   "cell_type": "code",
   "execution_count": 68,
   "metadata": {},
   "outputs": [
    {
     "name": "stdout",
     "output_type": "stream",
     "text": [
      "CRIM [[-0.08264819]]\n",
      "ZN [[0.10480779]]\n",
      "INDUS [[-0.06131572]]\n",
      "CHAS [[4.978929]]\n",
      "NOX [[0.5403864]]\n",
      "RM [[1.3916407]]\n",
      "AGE [[0.0930142]]\n",
      "DIS [[-0.0256195]]\n",
      "RAD [[0.09646928]]\n",
      "TAX [[-0.00134143]]\n",
      "PTRATIO [[0.26258257]]\n",
      "B [[0.02514443]]\n",
      "LSTAT [[-0.7237082]]\n"
     ]
    }
   ],
   "source": [
    "\n",
    "for i in features:\n",
    "    print(i, linear_est.get_variable_value('linear/linear_model/' + i + '/weights'))\n"
   ]
  },
  {
   "cell_type": "code",
   "execution_count": null,
   "metadata": {},
   "outputs": [],
   "source": []
  }
 ],
 "metadata": {
  "kernelspec": {
   "display_name": "Python 3",
   "language": "python",
   "name": "python3"
  },
  "language_info": {
   "codemirror_mode": {
    "name": "ipython",
    "version": 3
   },
   "file_extension": ".py",
   "mimetype": "text/x-python",
   "name": "python",
   "nbconvert_exporter": "python",
   "pygments_lexer": "ipython3",
   "version": "3.6.9"
  }
 },
 "nbformat": 4,
 "nbformat_minor": 4
}
