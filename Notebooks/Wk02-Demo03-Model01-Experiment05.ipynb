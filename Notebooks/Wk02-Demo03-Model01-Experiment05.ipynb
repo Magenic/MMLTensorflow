{
 "cells": [
  {
   "cell_type": "code",
   "execution_count": 1,
   "metadata": {},
   "outputs": [
    {
     "name": "stdout",
     "output_type": "stream",
     "text": [
      "60000 train samples\n",
      "10000 test samples\n",
      "Model: \"sequential\"\n",
      "_________________________________________________________________\n",
      "Layer (type)                 Output Shape              Param #   \n",
      "=================================================================\n",
      "input_dense_layer (Dense)    (None, 128)               100480    \n",
      "_________________________________________________________________\n",
      "dropout (Dropout)            (None, 128)               0         \n",
      "_________________________________________________________________\n",
      "hidden_dense_layer (Dense)   (None, 128)               16512     \n",
      "_________________________________________________________________\n",
      "dropout_1 (Dropout)          (None, 128)               0         \n",
      "_________________________________________________________________\n",
      "output_dense_layer (Dense)   (None, 10)                1290      \n",
      "=================================================================\n",
      "Total params: 118,282\n",
      "Trainable params: 118,282\n",
      "Non-trainable params: 0\n",
      "_________________________________________________________________\n"
     ]
    }
   ],
   "source": [
    "import tensorflow as tf\n",
    "from tensorflow import keras\n",
    "\n",
    "EPOCHS = 10\n",
    "BATCH_SIZE = 128\n",
    "VERBOSE = 1\n",
    "NB_CLASSES = 10\n",
    "\n",
    "N_HIDDEN = 128\n",
    "VALIDATION_SPLIT = 0.2\n",
    "\n",
    "DROPOUT = 0.3\n",
    "\n",
    "mnist = keras.datasets.mnist \n",
    "(X_train, Y_train), (X_test, Y_test) = mnist.load_data()\n",
    "\n",
    "RESHAPED = 784\n",
    "\n",
    "X_train = X_train.reshape(60000, RESHAPED)\n",
    "X_test = X_test.reshape(10000, RESHAPED)\n",
    "X_train = X_train.astype('float32')\n",
    "X_test = X_test.astype('float32')\n",
    "\n",
    "\n",
    "X_train /= 255.0\n",
    "X_test /= 255.0\n",
    "\n",
    "print(X_train.shape[0], 'train samples')\n",
    "print(X_test.shape[0], 'test samples')\n",
    "\n",
    "Y_train = tf.keras.utils.to_categorical(Y_train, NB_CLASSES)\n",
    "Y_test = tf.keras.utils.to_categorical(Y_test, NB_CLASSES)\n",
    "\n",
    "\n",
    "model = tf.keras.models.Sequential()\n",
    "model.add(keras.layers.Dense(N_HIDDEN, input_shape=(RESHAPED,), name='input_dense_layer',activation='relu'))\n",
    "model.add(keras.layers.Dropout(DROPOUT))\n",
    "model.add(keras.layers.Dense(N_HIDDEN, name='hidden_dense_layer',activation='relu'))\n",
    "model.add(keras.layers.Dropout(DROPOUT))\n",
    "model.add(keras.layers.Dense(NB_CLASSES, name='output_dense_layer',activation='softmax'))\n",
    "\n",
    "model.compile(optimizer='Adam', loss='categorical_crossentropy', metrics=['accuracy'])\n",
    "\n",
    "model.summary()\n"
   ]
  },
  {
   "cell_type": "code",
   "execution_count": 2,
   "metadata": {},
   "outputs": [
    {
     "name": "stdout",
     "output_type": "stream",
     "text": [
      "Train on 48000 samples, validate on 12000 samples\n",
      "Epoch 1/10\n",
      "48000/48000 [==============================] - 10s 212us/sample - loss: 0.5135 - accuracy: 0.8441 - val_loss: 0.1785 - val_accuracy: 0.9476\n",
      "Epoch 2/10\n",
      "48000/48000 [==============================] - 8s 161us/sample - loss: 0.2312 - accuracy: 0.9310 - val_loss: 0.1403 - val_accuracy: 0.9596\n",
      "Epoch 3/10\n",
      "48000/48000 [==============================] - 8s 170us/sample - loss: 0.1801 - accuracy: 0.9461 - val_loss: 0.1187 - val_accuracy: 0.9658\n",
      "Epoch 4/10\n",
      "48000/48000 [==============================] - 8s 163us/sample - loss: 0.1526 - accuracy: 0.9547 - val_loss: 0.1064 - val_accuracy: 0.9686\n",
      "Epoch 5/10\n",
      "48000/48000 [==============================] - 10s 214us/sample - loss: 0.1322 - accuracy: 0.9607 - val_loss: 0.0976 - val_accuracy: 0.9702\n",
      "Epoch 6/10\n",
      "48000/48000 [==============================] - 16s 327us/sample - loss: 0.1206 - accuracy: 0.9632 - val_loss: 0.0897 - val_accuracy: 0.9728\n",
      "Epoch 7/10\n",
      "48000/48000 [==============================] - 35s 736us/sample - loss: 0.1057 - accuracy: 0.9675 - val_loss: 0.0865 - val_accuracy: 0.9750\n",
      "Epoch 8/10\n",
      "48000/48000 [==============================] - 43s 898us/sample - loss: 0.1006 - accuracy: 0.9689 - val_loss: 0.0839 - val_accuracy: 0.9756\n",
      "Epoch 9/10\n",
      "48000/48000 [==============================] - 11s 225us/sample - loss: 0.0915 - accuracy: 0.9718 - val_loss: 0.0824 - val_accuracy: 0.9747\n",
      "Epoch 10/10\n",
      "48000/48000 [==============================] - 6s 129us/sample - loss: 0.0850 - accuracy: 0.9731 - val_loss: 0.0812 - val_accuracy: 0.9768\n",
      "10000/10000 [==============================] - 2s 213us/sample - loss: 0.0802 - accuracy: 0.9759\n",
      "\n",
      "Test accuracy: 0.9759\n"
     ]
    }
   ],
   "source": [
    "model.fit(X_train, Y_train, batch_size=BATCH_SIZE, epochs=EPOCHS, verbose=VERBOSE, validation_split=VALIDATION_SPLIT)\n",
    "\n",
    "test_loss, test_acc = model.evaluate(X_test, Y_test)\n",
    "print()\n",
    "print('Test accuracy:', test_acc)\n"
   ]
  },
  {
   "cell_type": "code",
   "execution_count": null,
   "metadata": {},
   "outputs": [],
   "source": []
  },
  {
   "cell_type": "code",
   "execution_count": null,
   "metadata": {},
   "outputs": [],
   "source": []
  }
 ],
 "metadata": {
  "kernelspec": {
   "display_name": "Python 3",
   "language": "python",
   "name": "python3"
  },
  "language_info": {
   "codemirror_mode": {
    "name": "ipython",
    "version": 3
   },
   "file_extension": ".py",
   "mimetype": "text/x-python",
   "name": "python",
   "nbconvert_exporter": "python",
   "pygments_lexer": "ipython3",
   "version": "3.6.9"
  }
 },
 "nbformat": 4,
 "nbformat_minor": 4
}
