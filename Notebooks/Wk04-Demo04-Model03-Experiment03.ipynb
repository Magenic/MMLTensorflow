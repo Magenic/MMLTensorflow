{
 "cells": [
  {
   "cell_type": "code",
   "execution_count": 4,
   "metadata": {
    "scrolled": true
   },
   "outputs": [],
   "source": [
    "import tensorflow as tf\n",
    "import pandas as pd\n",
    "import matplotlib.pyplot as plt\n",
    "from tensorflow import keras\n",
    "import numpy as np\n",
    "import math\n",
    "\n",
    "RESHAPED = 1\n",
    "NB_CLASSES = 1\n",
    "DROPOUT = 0.3\n",
    "N_HIDDEN = 512\n",
    "BATCH_SIZE = 15\n",
    "EPOCHS = 17\n",
    "VERBOSE = 1\n",
    "VALIDATION_SPLIT = 0.2\n",
    "\n",
    "TRANSFORMATION = 3\n",
    "\n",
    "DATA_URL = \"https://covid.ourworldindata.org/data/owid-covid-data.csv\"\n",
    "LABEL_COLUMN = 'total_deaths'\n",
    "    \n",
    "file_path = tf.keras.utils.get_file(\"owid-covid-data.csv\", DATA_URL)\n",
    "\n",
    "SELECT_COLUMNS = ['iso_code', 'total_cases', 'total_deaths']\n",
    "DEFAULTS = ['', 0.0, 0.0]\n",
    "\n",
    "def apply_transformation(original_value):\n",
    "    return (original_value/100000)**TRANSFORMATION\n",
    "\n",
    "def get_dataset(file_path, **kwargs):\n",
    "    dataset = tf.data.experimental.make_csv_dataset(\n",
    "      file_path,\n",
    "      batch_size=1, # Artificially small to make examples easier to show.\n",
    "      label_name=LABEL_COLUMN,\n",
    "      na_value=\"?\",\n",
    "      num_epochs=1,\n",
    "      ignore_errors=True, \n",
    "      shuffle=True,\n",
    "      **kwargs)\n",
    "    return dataset\n",
    "\n",
    "covid_dataset = get_dataset(file_path, select_columns=SELECT_COLUMNS, column_defaults = DEFAULTS)\n",
    "            \n",
    "def convert_to_train_test_data(dataset, test_percent = 0.05):\n",
    "    total_deaths = []\n",
    "    transformed_total_cases = []\n",
    "    total_cases = []\n",
    "    for independent, dependent in dataset.as_numpy_iterator():\n",
    "        if independent.get('iso_code')[0] == b'USA':\n",
    "            total_deaths.append(dependent[0])\n",
    "            transformed_total_cases.append([apply_transformation(independent.get('total_cases')[0])])\n",
    "            total_cases.append([independent.get('total_cases')[0]])\n",
    "    testRecordCount = int(round(test_percent*len(total_deaths)))\n",
    "    return transformed_total_cases[testRecordCount:], total_cases[testRecordCount:], total_deaths[testRecordCount:], transformed_total_cases[:testRecordCount], total_cases[:testRecordCount], total_deaths[:testRecordCount]\n",
    "    \n",
    "x_train_transformed, x_train, y_train, x_test_transformed, x_test, y_test = convert_to_train_test_data(covid_dataset, test_percent=0.05)\n",
    "\n",
    "\n",
    "features = ['total_cases']\n"
   ]
  },
  {
   "cell_type": "code",
   "execution_count": 5,
   "metadata": {},
   "outputs": [
    {
     "name": "stdout",
     "output_type": "stream",
     "text": [
      "Train on 86 samples, validate on 22 samples\n",
      "Epoch 1/17\n",
      "86/86 [==============================] - 2s 19ms/sample - loss: 134517074.8837 - accuracy: 0.5116 - val_loss: 96930378.0909 - val_accuracy: 0.0455\n",
      "Epoch 2/17\n",
      "86/86 [==============================] - 0s 1ms/sample - loss: 128311961.6424 - accuracy: 0.0000e+00 - val_loss: 91101651.8182 - val_accuracy: 0.0455\n",
      "Epoch 3/17\n",
      "86/86 [==============================] - 0s 1ms/sample - loss: 121423289.1686 - accuracy: 0.0000e+00 - val_loss: 85372484.5455 - val_accuracy: 0.0455\n",
      "Epoch 4/17\n",
      "86/86 [==============================] - 0s 1ms/sample - loss: 115350903.4826 - accuracy: 0.0000e+00 - val_loss: 78940861.6364 - val_accuracy: 0.0455\n",
      "Epoch 5/17\n",
      "86/86 [==============================] - 0s 1ms/sample - loss: 107615805.6512 - accuracy: 0.0000e+00 - val_loss: 71087231.4545 - val_accuracy: 0.0455\n",
      "Epoch 6/17\n",
      "86/86 [==============================] - 0s 1ms/sample - loss: 97768316.5581 - accuracy: 0.0000e+00 - val_loss: 62004621.1818 - val_accuracy: 0.0455\n",
      "Epoch 7/17\n",
      "86/86 [==============================] - 0s 1ms/sample - loss: 88625024.9535 - accuracy: 0.0000e+00 - val_loss: 52926129.3636 - val_accuracy: 0.0455\n",
      "Epoch 8/17\n",
      "86/86 [==============================] - 0s 1ms/sample - loss: 78671622.5116 - accuracy: 0.0000e+00 - val_loss: 44464947.5455 - val_accuracy: 0.0455\n",
      "Epoch 9/17\n",
      "86/86 [==============================] - 0s 1ms/sample - loss: 68128208.1395 - accuracy: 0.0000e+00 - val_loss: 35845267.9091 - val_accuracy: 0.0455\n",
      "Epoch 10/17\n",
      "86/86 [==============================] - 0s 1ms/sample - loss: 58631402.2558 - accuracy: 0.0000e+00 - val_loss: 27330929.6818 - val_accuracy: 0.0455\n",
      "Epoch 11/17\n",
      "86/86 [==============================] - 0s 1ms/sample - loss: 48019722.7547 - accuracy: 0.0000e+00 - val_loss: 19752469.1364 - val_accuracy: 0.0455\n",
      "Epoch 12/17\n",
      "86/86 [==============================] - 0s 1ms/sample - loss: 38247958.0930 - accuracy: 0.0000e+00 - val_loss: 14121139.3636 - val_accuracy: 0.0455\n",
      "Epoch 13/17\n",
      "86/86 [==============================] - 0s 1ms/sample - loss: 29351615.5116 - accuracy: 0.0000e+00 - val_loss: 9073852.2500 - val_accuracy: 0.0455\n",
      "Epoch 14/17\n",
      "86/86 [==============================] - 0s 1ms/sample - loss: 21913464.9826 - accuracy: 0.0000e+00 - val_loss: 5857753.4432 - val_accuracy: 0.0455\n",
      "Epoch 15/17\n",
      "86/86 [==============================] - 0s 1ms/sample - loss: 14891769.6802 - accuracy: 0.0000e+00 - val_loss: 4477572.2955 - val_accuracy: 0.0455\n",
      "Epoch 16/17\n",
      "86/86 [==============================] - 0s 1ms/sample - loss: 11146290.0480 - accuracy: 0.0000e+00 - val_loss: 4863785.4773 - val_accuracy: 0.0455\n",
      "Epoch 17/17\n",
      "86/86 [==============================] - 0s 1ms/sample - loss: 7550822.3350 - accuracy: 0.0000e+00 - val_loss: 6482016.1818 - val_accuracy: 0.0455\n",
      "6/6 [==============================] - 0s 1ms/sample - loss: 629877.3125 - accuracy: 0.0000e+00\n",
      "\n",
      "Test accuracy: 0.0\n"
     ]
    },
    {
     "data": {
      "text/plain": [
       "<matplotlib.legend.Legend at 0x7f1ef059c2b0>"
      ]
     },
     "execution_count": 5,
     "metadata": {},
     "output_type": "execute_result"
    },
    {
     "data": {
      "image/png": "[encoded data removed]",
      "text/plain": [
       "<Figure size 432x288 with 1 Axes>"
      ]
     },
     "metadata": {
      "needs_background": "light"
     },
     "output_type": "display_data"
    }
   ],
   "source": [
    "opt = keras.optimizers.RMSprop(learning_rate=0.001)\n",
    "\n",
    "model = tf.keras.models.Sequential()\n",
    "model.add(keras.layers.Dense(N_HIDDEN, input_shape=(RESHAPED,), name='input_dense_layer',activation='relu'))\n",
    "model.add(keras.layers.Dropout(DROPOUT))\n",
    "model.add(keras.layers.Dense(N_HIDDEN, name='hidden_dense_layer',activation='relu'))\n",
    "model.add(keras.layers.Dropout(DROPOUT))\n",
    "model.add(keras.layers.Dense(NB_CLASSES, name='output_dense_layer'))\n",
    "\n",
    "model.compile(optimizer=opt, loss='mse', metrics=['accuracy'])\n",
    "\n",
    "history = model.fit(np.array(x_train_transformed), np.array(y_train), batch_size=BATCH_SIZE, epochs=EPOCHS, verbose=VERBOSE, validation_split=VALIDATION_SPLIT)\n",
    "\n",
    "test_loss, test_acc = model.evaluate(np.array(x_test_transformed), np.array(y_test))\n",
    "print()\n",
    "print('Test accuracy:', test_acc)\n",
    "\n",
    "train_loss = history.history['loss']\n",
    "validation_loss = history.history['val_loss']\n",
    "\n",
    "epochs = range(1, len(validation_loss)+1)\n",
    "\n",
    "fig, ax = plt.subplots()  # Create a figure and an axes.\n",
    "ax.plot(epochs, train_loss, label='train loss')\n",
    "ax.plot(epochs, validation_loss, label='validation loss')\n",
    "ax.set_xlabel('epoch')  # Add an x-label to the axes.\n",
    "ax.set_ylabel('loss')  # Add a y-label to the axes.\n",
    "ax.set_title(\"Simple Plot\")  # Add a title to the axes.\n",
    "ax.legend() \n"
   ]
  },
  {
   "cell_type": "code",
   "execution_count": 6,
   "metadata": {},
   "outputs": [
    {
     "name": "stdout",
     "output_type": "stream",
     "text": [
      "[94203.17]\n",
      "[[94203.17]]\n"
     ]
    },
    {
     "data": {
      "text/plain": [
       "<matplotlib.legend.Legend at 0x7f1ef04a5b00>"
      ]
     },
     "execution_count": 6,
     "metadata": {},
     "output_type": "execute_result"
    },
    {
     "data": {
      "image/png": "[encoded data removed]",
      "text/plain": [
       "<Figure size 432x288 with 1 Axes>"
      ]
     },
     "metadata": {
      "needs_background": "light"
     },
     "output_type": "display_data"
    }
   ],
   "source": [
    "CASE_COUNT = 1000000\n",
    "FUTURE_CASES = [CASE_COUNT]\n",
    "FUTURE_CASES_TANSFORMED = [apply_transformation(CASE_COUNT)]\n",
    "FUTURE_PREDICTION = []\n",
    "\n",
    "PREDICTED_CASES = []\n",
    "PREDICTED_DEATHS = []\n",
    "\n",
    "pred_traning_deaths = model.predict(np.array(x_train_transformed))\n",
    "\n",
    "count = 0\n",
    "for deaths in pred_traning_deaths:\n",
    "    PREDICTED_CASES.append(x_train[count])\n",
    "    PREDICTED_DEATHS.append(deaths)\n",
    "    count += 1\n",
    "\n",
    "pred_validation_deaths = model.predict(np.array(x_test_transformed))\n",
    "\n",
    "count = 0\n",
    "for deaths in pred_validation_deaths:\n",
    "    PREDICTED_CASES.append(x_test[count])\n",
    "    PREDICTED_DEATHS.append(deaths)\n",
    "    count += 1\n",
    "\n",
    "pred_deaths = model.predict(FUTURE_CASES_TANSFORMED)\n",
    "\n",
    "for deaths in pred_deaths:\n",
    "    FUTURE_PREDICTION.append(deaths)\n",
    "    \n",
    "print(pred_deaths)\n",
    "fig, ax = plt.subplots()  # Create a figure and an axes.\n",
    "ax.plot(x_train, y_train, label='training data', linewidth=0, marker='.')\n",
    "ax.plot(x_test, y_test, label='test data', linewidth=0, marker='.')\n",
    "ax.plot(PREDICTED_CASES, PREDICTED_DEATHS, label='prediction values', linewidth=0, marker='.')\n",
    "ax.plot(FUTURE_CASES, FUTURE_PREDICTION, label='future prediction', linewidth=0, marker='.')\n",
    "ax.set_xlabel('cases')  # Add an x-label to the axes.\n",
    "ax.set_ylabel('deaths')  # Add a y-label to the axes.\n",
    "ax.legend() \n",
    "\n"
   ]
  },
  {
   "cell_type": "code",
   "execution_count": null,
   "metadata": {},
   "outputs": [],
   "source": []
  }
 ],
 "metadata": {
  "kernelspec": {
   "display_name": "Python 3",
   "language": "python",
   "name": "python3"
  },
  "language_info": {
   "codemirror_mode": {
    "name": "ipython",
    "version": 3
   },
   "file_extension": ".py",
   "mimetype": "text/x-python",
   "name": "python",
   "nbconvert_exporter": "python",
   "pygments_lexer": "ipython3",
   "version": "3.6.9"
  }
 },
 "nbformat": 4,
 "nbformat_minor": 4
}
