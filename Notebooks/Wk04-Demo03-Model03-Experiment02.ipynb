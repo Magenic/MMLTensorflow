{
 "cells": [
  {
   "cell_type": "code",
   "execution_count": 1,
   "metadata": {
    "scrolled": true
   },
   "outputs": [],
   "source": [
    "import tensorflow as tf\n",
    "import pandas as pd\n",
    "import matplotlib.pyplot as plt\n",
    "from tensorflow import keras\n",
    "import numpy as np\n",
    "import math\n",
    "\n",
    "RESHAPED = 1\n",
    "NB_CLASSES = 1\n",
    "DROPOUT = 0.3\n",
    "N_HIDDEN = 512\n",
    "BATCH_SIZE = 15\n",
    "EPOCHS = 20\n",
    "VERBOSE = 1\n",
    "VALIDATION_SPLIT = 0.2\n",
    "\n",
    "DATA_URL = \"https://covid.ourworldindata.org/data/owid-covid-data.csv\"\n",
    "LABEL_COLUMN = 'total_deaths'\n",
    "    \n",
    "file_path = tf.keras.utils.get_file(\"owid-covid-data.csv\", DATA_URL)\n",
    "\n",
    "SELECT_COLUMNS = ['iso_code', 'total_cases', 'total_deaths']\n",
    "DEFAULTS = ['', 0.0, 0.0]\n",
    "\n",
    "def get_dataset(file_path, **kwargs):\n",
    "    dataset = tf.data.experimental.make_csv_dataset(\n",
    "      file_path,\n",
    "      batch_size=1, # Artificially small to make examples easier to show.\n",
    "      label_name=LABEL_COLUMN,\n",
    "      na_value=\"?\",\n",
    "      num_epochs=1,\n",
    "      ignore_errors=True, \n",
    "      shuffle=True,\n",
    "      **kwargs)\n",
    "    return dataset\n",
    "\n",
    "covid_dataset = get_dataset(file_path, select_columns=SELECT_COLUMNS, column_defaults = DEFAULTS)\n",
    "            \n",
    "def convert_to_train_test_data(dataset, test_percent = 0.05):\n",
    "    total_deaths = []\n",
    "    total_cases = []\n",
    "    for independent, dependent in dataset.as_numpy_iterator():\n",
    "        if independent.get('iso_code')[0] == b'USA':\n",
    "            total_deaths.append(dependent[0])\n",
    "            total_cases.append([independent.get('total_cases')[0]])\n",
    "    testRecordCount = int(round(test_percent*len(total_deaths)))\n",
    "    return total_cases[testRecordCount:], total_deaths[testRecordCount:], total_cases[:testRecordCount], total_deaths[:testRecordCount]\n",
    "    \n",
    "x_train, y_train, x_test, y_test = convert_to_train_test_data(covid_dataset, test_percent=0.05)\n",
    "\n",
    "\n",
    "features = ['total_cases']\n"
   ]
  },
  {
   "cell_type": "code",
   "execution_count": 2,
   "metadata": {},
   "outputs": [
    {
     "name": "stdout",
     "output_type": "stream",
     "text": [
      "Train on 86 samples, validate on 22 samples\n",
      "Epoch 1/20\n",
      "86/86 [==============================] - 1s 16ms/sample - loss: 1589818467.6279 - accuracy: 0.4186 - val_loss: 582920512.0000 - val_accuracy: 0.1818\n",
      "Epoch 2/20\n",
      "86/86 [==============================] - 0s 993us/sample - loss: 305272712.8605 - accuracy: 0.4186 - val_loss: 472376517.8182 - val_accuracy: 0.5000\n",
      "Epoch 3/20\n",
      "86/86 [==============================] - 0s 1ms/sample - loss: 416817613.0523 - accuracy: 0.4302 - val_loss: 290745185.4545 - val_accuracy: 0.5000\n",
      "Epoch 4/20\n",
      "86/86 [==============================] - 0s 1ms/sample - loss: 224746017.4165 - accuracy: 0.4070 - val_loss: 40707469.8182 - val_accuracy: 0.3636\n",
      "Epoch 5/20\n",
      "86/86 [==============================] - 0s 972us/sample - loss: 71034569.7674 - accuracy: 0.4302 - val_loss: 71124339.4545 - val_accuracy: 0.1818\n",
      "Epoch 6/20\n",
      "86/86 [==============================] - 0s 1ms/sample - loss: 153248478.8837 - accuracy: 0.3953 - val_loss: 8377054.7273 - val_accuracy: 0.3182\n",
      "Epoch 7/20\n",
      "86/86 [==============================] - 0s 983us/sample - loss: 193972305.9070 - accuracy: 0.3953 - val_loss: 56776867.5455 - val_accuracy: 0.3636\n",
      "Epoch 8/20\n",
      "86/86 [==============================] - 0s 1ms/sample - loss: 373372682.2558 - accuracy: 0.4186 - val_loss: 96818163.0909 - val_accuracy: 0.5000\n",
      "Epoch 9/20\n",
      "86/86 [==============================] - 0s 1ms/sample - loss: 399169969.8605 - accuracy: 0.4419 - val_loss: 110311998.0000 - val_accuracy: 0.5000\n",
      "Epoch 10/20\n",
      "86/86 [==============================] - 0s 936us/sample - loss: 173747209.2436 - accuracy: 0.4186 - val_loss: 153892580.7273 - val_accuracy: 0.5000\n",
      "Epoch 11/20\n",
      "86/86 [==============================] - 0s 1ms/sample - loss: 270194233.4651 - accuracy: 0.4302 - val_loss: 163161511.2727 - val_accuracy: 0.1818\n",
      "Epoch 12/20\n",
      "86/86 [==============================] - 0s 984us/sample - loss: 95196389.1628 - accuracy: 0.3953 - val_loss: 5134572.9773 - val_accuracy: 0.3182\n",
      "Epoch 13/20\n",
      "86/86 [==============================] - 0s 1ms/sample - loss: 134137430.5698 - accuracy: 0.4186 - val_loss: 6066144.3295 - val_accuracy: 0.3182\n",
      "Epoch 14/20\n",
      "86/86 [==============================] - 0s 1ms/sample - loss: 95907692.6948 - accuracy: 0.3605 - val_loss: 16260572.7045 - val_accuracy: 0.3636\n",
      "Epoch 15/20\n",
      "86/86 [==============================] - 0s 1ms/sample - loss: 96653243.6744 - accuracy: 0.4302 - val_loss: 5169308.3864 - val_accuracy: 0.3182\n",
      "Epoch 16/20\n",
      "86/86 [==============================] - 0s 991us/sample - loss: 58691895.0000 - accuracy: 0.3372 - val_loss: 170058834.1818 - val_accuracy: 0.1818\n",
      "Epoch 17/20\n",
      "86/86 [==============================] - 0s 1ms/sample - loss: 287261939.9244 - accuracy: 0.4302 - val_loss: 34803621.0000 - val_accuracy: 0.3636\n",
      "Epoch 18/20\n",
      "86/86 [==============================] - 0s 1ms/sample - loss: 73723905.7754 - accuracy: 0.3953 - val_loss: 5170493.8750 - val_accuracy: 0.3182\n",
      "Epoch 19/20\n",
      "86/86 [==============================] - 0s 1ms/sample - loss: 26570971.8837 - accuracy: 0.3837 - val_loss: 6200589.4773 - val_accuracy: 0.3182\n",
      "Epoch 20/20\n",
      "86/86 [==============================] - 0s 961us/sample - loss: 127876204.3721 - accuracy: 0.4186 - val_loss: 14030685.0909 - val_accuracy: 0.3636\n",
      "6/6 [==============================] - 0s 2ms/sample - loss: 324300.1562 - accuracy: 0.6667\n",
      "\n",
      "Test accuracy: 0.6666667\n"
     ]
    },
    {
     "data": {
      "text/plain": [
       "<matplotlib.legend.Legend at 0x7fbb38277c88>"
      ]
     },
     "execution_count": 2,
     "metadata": {},
     "output_type": "execute_result"
    },
    {
     "data": {
      "image/png": "[encoded data removed]",
      "text/plain": [
       "<Figure size 432x288 with 1 Axes>"
      ]
     },
     "metadata": {
      "needs_background": "light"
     },
     "output_type": "display_data"
    }
   ],
   "source": [
    "opt = keras.optimizers.RMSprop(learning_rate=0.001)\n",
    "\n",
    "model = tf.keras.models.Sequential()\n",
    "model.add(keras.layers.Dense(N_HIDDEN, input_shape=(RESHAPED,), name='input_dense_layer',activation='relu'))\n",
    "model.add(keras.layers.Dropout(DROPOUT))\n",
    "model.add(keras.layers.Dense(N_HIDDEN, name='hidden_dense_layer',activation='relu'))\n",
    "model.add(keras.layers.Dropout(DROPOUT))\n",
    "model.add(keras.layers.Dense(NB_CLASSES, name='output_dense_layer'))\n",
    "\n",
    "model.compile(optimizer=opt, loss='mse', metrics=['accuracy'])\n",
    "\n",
    "history = model.fit(np.array(x_train), np.array(y_train), batch_size=BATCH_SIZE, epochs=EPOCHS, verbose=VERBOSE, validation_split=VALIDATION_SPLIT)\n",
    "\n",
    "test_loss, test_acc = model.evaluate(np.array(x_test), np.array(y_test))\n",
    "print()\n",
    "print('Test accuracy:', test_acc)\n",
    "\n",
    "train_loss = history.history['loss']\n",
    "validation_loss = history.history['val_loss']\n",
    "\n",
    "epochs = range(1, len(validation_loss)+1)\n",
    "\n",
    "fig, ax = plt.subplots()  # Create a figure and an axes.\n",
    "ax.plot(epochs, train_loss, label='train loss')\n",
    "ax.plot(epochs, validation_loss, label='validation loss')\n",
    "ax.set_xlabel('epoch')  # Add an x-label to the axes.\n",
    "ax.set_ylabel('loss')  # Add a y-label to the axes.\n",
    "ax.set_title(\"Simple Plot\")  # Add a title to the axes.\n",
    "ax.legend() \n"
   ]
  },
  {
   "cell_type": "code",
   "execution_count": 3,
   "metadata": {},
   "outputs": [
    {
     "name": "stdout",
     "output_type": "stream",
     "text": [
      "[[31293.652]]\n"
     ]
    },
    {
     "data": {
      "text/plain": [
       "<matplotlib.legend.Legend at 0x7fbb380b9b38>"
      ]
     },
     "execution_count": 3,
     "metadata": {},
     "output_type": "execute_result"
    },
    {
     "data": {
      "image/png": "[encoded data removed]",
      "text/plain": [
       "<Figure size 432x288 with 1 Axes>"
      ]
     },
     "metadata": {
      "needs_background": "light"
     },
     "output_type": "display_data"
    }
   ],
   "source": [
    "CASE_COUNT = 1000000\n",
    "FUTURE_CASES = [CASE_COUNT]\n",
    "FUTURE_PREDICTION = []\n",
    "\n",
    "PREDICTED_CASES = []\n",
    "PREDICTED_DEATHS = []\n",
    "\n",
    "pred_traning_deaths = model.predict(np.array(x_train))\n",
    "\n",
    "count = 0\n",
    "for deaths in pred_traning_deaths:\n",
    "    PREDICTED_CASES.append(x_train[count])\n",
    "    PREDICTED_DEATHS.append(deaths)\n",
    "    count += 1\n",
    "\n",
    "pred_validation_deaths = model.predict(np.array(x_test))\n",
    "\n",
    "count = 0\n",
    "for deaths in pred_validation_deaths:\n",
    "    PREDICTED_CASES.append(x_test[count])\n",
    "    PREDICTED_DEATHS.append(deaths)\n",
    "    count += 1\n",
    "\n",
    "pred_deaths = model.predict(FUTURE_CASES)\n",
    "\n",
    "for deaths in pred_deaths:\n",
    "    FUTURE_PREDICTION.append(deaths)\n",
    "    \n",
    "print(pred_deaths)\n",
    "fig, ax = plt.subplots()  # Create a figure and an axes.\n",
    "ax.plot(x_train, y_train, label='training data', linewidth=0, marker='.')\n",
    "ax.plot(x_test, y_test, label='test data', linewidth=0, marker='.')\n",
    "ax.plot(PREDICTED_CASES, PREDICTED_DEATHS, label='prediction values', linewidth=0, marker='.')\n",
    "ax.plot(FUTURE_CASES, FUTURE_PREDICTION, label='future prediction', linewidth=0, marker='.')\n",
    "ax.set_xlabel('cases')  # Add an x-label to the axes.\n",
    "ax.set_ylabel('deaths')  # Add a y-label to the axes.\n",
    "ax.legend() \n",
    "\n"
   ]
  },
  {
   "cell_type": "code",
   "execution_count": null,
   "metadata": {},
   "outputs": [],
   "source": []
  }
 ],
 "metadata": {
  "kernelspec": {
   "display_name": "Python 3",
   "language": "python",
   "name": "python3"
  },
  "language_info": {
   "codemirror_mode": {
    "name": "ipython",
    "version": 3
   },
   "file_extension": ".py",
   "mimetype": "text/x-python",
   "name": "python",
   "nbconvert_exporter": "python",
   "pygments_lexer": "ipython3",
   "version": "3.6.9"
  }
 },
 "nbformat": 4,
 "nbformat_minor": 4
}
