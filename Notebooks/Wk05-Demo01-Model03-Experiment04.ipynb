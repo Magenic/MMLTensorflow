{
 "cells": [
  {
   "cell_type": "code",
   "execution_count": 1,
   "metadata": {
    "scrolled": true
   },
   "outputs": [],
   "source": [
    "import tensorflow as tf\n",
    "import pandas as pd\n",
    "import matplotlib.pyplot as plt\n",
    "from tensorflow import keras\n",
    "import numpy as np\n",
    "import math\n",
    "\n",
    "RESHAPED = 1\n",
    "NB_CLASSES = 1\n",
    "DROPOUT = 0.3\n",
    "N_HIDDEN = 512\n",
    "BATCH_SIZE = 15\n",
    "EPOCHS = 10\n",
    "VERBOSE = 1\n",
    "VALIDATION_SPLIT = 0.2\n",
    "CHECKPOINT_NAME = './checkpoints/model03_checkpoint01'\n",
    "\n",
    "TRANSFORMATION = 3\n",
    "\n",
    "DATA_URL = \"https://covid.ourworldindata.org/data/owid-covid-data.csv\"\n",
    "LABEL_COLUMN = 'total_deaths'\n",
    "    \n",
    "file_path = tf.keras.utils.get_file(\"owid-covid-data.csv\", DATA_URL)\n",
    "\n",
    "SELECT_COLUMNS = ['iso_code', 'total_cases', 'total_deaths']\n",
    "DEFAULTS = ['', 0.0, 0.0]\n",
    "\n",
    "def apply_transformation(original_value):\n",
    "    return (original_value/100000)**TRANSFORMATION\n",
    "\n",
    "def get_dataset(file_path, **kwargs):\n",
    "    dataset = tf.data.experimental.make_csv_dataset(\n",
    "      file_path,\n",
    "      batch_size=1, # Artificially small to make examples easier to show.\n",
    "      label_name=LABEL_COLUMN,\n",
    "      na_value=\"?\",\n",
    "      num_epochs=1,\n",
    "      ignore_errors=True, \n",
    "      shuffle=True,\n",
    "      **kwargs)\n",
    "    return dataset\n",
    "\n",
    "covid_dataset = get_dataset(file_path, select_columns=SELECT_COLUMNS, column_defaults = DEFAULTS)\n",
    "            \n",
    "def convert_to_train_test_data(dataset, test_percent = 0.05):\n",
    "    total_deaths = []\n",
    "    transformed_total_cases = []\n",
    "    total_cases = []\n",
    "    for independent, dependent in dataset.as_numpy_iterator():\n",
    "        if independent.get('iso_code')[0] == b'USA':\n",
    "            total_deaths.append(dependent[0])\n",
    "            transformed_total_cases.append([apply_transformation(independent.get('total_cases')[0])])\n",
    "            total_cases.append([independent.get('total_cases')[0]])\n",
    "    testRecordCount = int(round(test_percent*len(total_deaths)))\n",
    "    return transformed_total_cases[testRecordCount:], total_cases[testRecordCount:], total_deaths[testRecordCount:], transformed_total_cases[:testRecordCount], total_cases[:testRecordCount], total_deaths[:testRecordCount]\n",
    "    \n",
    "x_train_transformed, x_train, y_train, x_test_transformed, x_test, y_test = convert_to_train_test_data(covid_dataset, test_percent=0.05)\n",
    "\n",
    "\n",
    "features = ['total_cases']\n",
    "\n",
    "def create_model(hidden_layers, input_shape, dropout, output_classes):\n",
    "    opt = keras.optimizers.RMSprop(learning_rate=0.001)\n",
    "\n",
    "    model = tf.keras.models.Sequential()\n",
    "    model.add(keras.layers.Dense(hidden_layers, input_shape=(input_shape,), name='input_dense_layer',activation='relu'))\n",
    "    model.add(keras.layers.Dropout(dropout))\n",
    "    model.add(keras.layers.Dense(hidden_layers, name='hidden_dense_layer',activation='relu'))\n",
    "    model.add(keras.layers.Dropout(dropout))\n",
    "    model.add(keras.layers.Dense(output_classes, name='output_dense_layer'))\n",
    "    \n",
    "    model.compile(optimizer=opt, loss='mse', metrics=['accuracy'])\n",
    "    \n",
    "    return model"
   ]
  },
  {
   "cell_type": "code",
   "execution_count": 2,
   "metadata": {},
   "outputs": [
    {
     "name": "stdout",
     "output_type": "stream",
     "text": [
      "Train on 86 samples, validate on 22 samples\n",
      "Epoch 1/10\n",
      "86/86 [==============================] - 0s 6ms/sample - loss: 133796024.7907 - accuracy: 0.4884 - val_loss: 29651517.9981 - val_accuracy: 0.0000e+00\n",
      "Epoch 2/10\n",
      "86/86 [==============================] - 0s 498us/sample - loss: 128266385.2558 - accuracy: 0.0233 - val_loss: 28422561.0364 - val_accuracy: 0.0000e+00\n",
      "Epoch 3/10\n",
      "86/86 [==============================] - 0s 539us/sample - loss: 122926813.5814 - accuracy: 0.0116 - val_loss: 27259143.6014 - val_accuracy: 0.0000e+00\n",
      "Epoch 4/10\n",
      "86/86 [==============================] - 0s 554us/sample - loss: 115482372.0000 - accuracy: 0.0116 - val_loss: 25660048.5244 - val_accuracy: 0.0000e+00\n",
      "Epoch 5/10\n",
      "86/86 [==============================] - 0s 647us/sample - loss: 108830886.4244 - accuracy: 0.0116 - val_loss: 23910593.3916 - val_accuracy: 0.0000e+00\n",
      "Epoch 6/10\n",
      "86/86 [==============================] - 0s 652us/sample - loss: 100180314.1017 - accuracy: 0.0116 - val_loss: 22180453.9635 - val_accuracy: 0.0000e+00\n",
      "Epoch 7/10\n",
      "86/86 [==============================] - 0s 629us/sample - loss: 92947461.3953 - accuracy: 0.0116 - val_loss: 20473884.2375 - val_accuracy: 0.0000e+00\n",
      "Epoch 8/10\n",
      "86/86 [==============================] - 0s 634us/sample - loss: 84383675.9070 - accuracy: 0.0116 - val_loss: 18613029.7365 - val_accuracy: 0.0000e+00\n",
      "Epoch 9/10\n",
      "86/86 [==============================] - 0s 747us/sample - loss: 75661845.8488 - accuracy: 0.0116 - val_loss: 16552814.6940 - val_accuracy: 0.0000e+00\n",
      "Epoch 10/10\n",
      "86/86 [==============================] - 0s 650us/sample - loss: 63495281.1395 - accuracy: 0.0116 - val_loss: 14241020.6247 - val_accuracy: 0.0000e+00\n",
      "6/6 [==============================] - 0s 641us/sample - loss: 100659528.0000 - accuracy: 0.0000e+00\n",
      "\n",
      "Test accuracy: 0.0\n",
      "Test loss: 100659528.0\n"
     ]
    },
    {
     "data": {
      "text/plain": [
       "<matplotlib.legend.Legend at 0x7f7b100845c0>"
      ]
     },
     "execution_count": 2,
     "metadata": {},
     "output_type": "execute_result"
    },
    {
     "data": {
      "image/png": "[encoded data removed]",
      "text/plain": [
       "<Figure size 432x288 with 1 Axes>"
      ]
     },
     "metadata": {
      "needs_background": "light"
     },
     "output_type": "display_data"
    }
   ],
   "source": [
    "model = create_model(N_HIDDEN, RESHAPED, DROPOUT, NB_CLASSES)\n",
    "\n",
    "history = model.fit(np.array(x_train_transformed), np.array(y_train), batch_size=BATCH_SIZE, epochs=EPOCHS, verbose=VERBOSE, validation_split=VALIDATION_SPLIT)\n",
    "\n",
    "model.save_weights(CHECKPOINT_NAME)\n",
    "\n",
    "test_loss, test_acc = model.evaluate(np.array(x_test_transformed), np.array(y_test))\n",
    "print()\n",
    "print('Test accuracy:', test_acc)\n",
    "print('Test loss:', test_loss)\n",
    "\n",
    "train_loss = history.history['loss']\n",
    "validation_loss = history.history['val_loss']\n",
    "\n",
    "epochs = range(1, len(validation_loss)+1)\n",
    "\n",
    "fig, ax = plt.subplots()  # Create a figure and an axes.\n",
    "ax.plot(epochs, train_loss, label='train loss')\n",
    "ax.plot(epochs, validation_loss, label='validation loss')\n",
    "ax.set_xlabel('epoch')  # Add an x-label to the axes.\n",
    "ax.set_ylabel('loss')  # Add a y-label to the axes.\n",
    "ax.set_title(\"Simple Plot\")  # Add a title to the axes.\n",
    "ax.legend() \n"
   ]
  },
  {
   "cell_type": "code",
   "execution_count": 3,
   "metadata": {},
   "outputs": [
    {
     "name": "stdout",
     "output_type": "stream",
     "text": [
      "6/6 [==============================] - 0s 10ms/sample - loss: 276220128.0000 - accuracy: 0.5000\n",
      "\n",
      "Test loss: 276220128.0\n",
      "6/6 [==============================] - 0s 515us/sample - loss: 100659528.0000 - accuracy: 0.0000e+00\n",
      "\n",
      "Test loss: 100659528.0\n"
     ]
    }
   ],
   "source": [
    "model = create_model(N_HIDDEN, RESHAPED, DROPOUT, NB_CLASSES)\n",
    "\n",
    "test_loss, test_acc = model.evaluate(np.array(x_test_transformed), np.array(y_test))\n",
    "print()\n",
    "print('Test loss:', test_loss)\n",
    "\n",
    "model.load_weights(CHECKPOINT_NAME)\n",
    "\n",
    "test_loss, test_acc = model.evaluate(np.array(x_test_transformed), np.array(y_test))\n",
    "print()\n",
    "print('Test loss:', test_loss)\n",
    "\n"
   ]
  },
  {
   "cell_type": "code",
   "execution_count": 4,
   "metadata": {},
   "outputs": [
    {
     "name": "stdout",
     "output_type": "stream",
     "text": [
      "Train on 86 samples, validate on 22 samples\n",
      "Epoch 1/10\n",
      "86/86 [==============================] - 0s 6ms/sample - loss: 55690393.0950 - accuracy: 0.0116 - val_loss: 12346723.3521 - val_accuracy: 0.0000e+00\n",
      "Epoch 2/10\n",
      "86/86 [==============================] - 0s 575us/sample - loss: 45625624.0497 - accuracy: 0.0116 - val_loss: 10140008.5367 - val_accuracy: 0.0000e+00\n",
      "Epoch 3/10\n",
      "86/86 [==============================] - 0s 630us/sample - loss: 34870591.0116 - accuracy: 0.0116 - val_loss: 8100567.6189 - val_accuracy: 0.0000e+00\n",
      "Epoch 4/10\n",
      "86/86 [==============================] - 0s 605us/sample - loss: 28685666.2558 - accuracy: 0.0116 - val_loss: 6114658.7739 - val_accuracy: 0.0000e+00\n",
      "Epoch 5/10\n",
      "86/86 [==============================] - 0s 621us/sample - loss: 19110228.1512 - accuracy: 0.0116 - val_loss: 4437704.4471 - val_accuracy: 0.0000e+00\n",
      "Epoch 6/10\n",
      "86/86 [==============================] - 0s 631us/sample - loss: 15425621.6512 - accuracy: 0.0116 - val_loss: 3005806.7493 - val_accuracy: 0.0000e+00\n",
      "Epoch 7/10\n",
      "86/86 [==============================] - 0s 571us/sample - loss: 11193967.8663 - accuracy: 0.0116 - val_loss: 1982965.0555 - val_accuracy: 0.0000e+00\n",
      "Epoch 8/10\n",
      "86/86 [==============================] - 0s 633us/sample - loss: 9471009.6890 - accuracy: 0.0116 - val_loss: 1291097.9509 - val_accuracy: 0.0000e+00\n",
      "Epoch 9/10\n",
      "86/86 [==============================] - 0s 624us/sample - loss: 7267196.2151 - accuracy: 0.0116 - val_loss: 862645.0256 - val_accuracy: 0.0000e+00\n",
      "Epoch 10/10\n",
      "86/86 [==============================] - 0s 700us/sample - loss: 7681783.2064 - accuracy: 0.0116 - val_loss: 584156.5779 - val_accuracy: 0.0000e+00\n",
      "6/6 [==============================] - 0s 906us/sample - loss: 2053106.3750 - accuracy: 0.0000e+00\n",
      "\n",
      "Test loss: 2053106.375\n"
     ]
    },
    {
     "data": {
      "text/plain": [
       "<matplotlib.legend.Legend at 0x7f7b080f91d0>"
      ]
     },
     "execution_count": 4,
     "metadata": {},
     "output_type": "execute_result"
    },
    {
     "data": {
      "image/png": "[encoded data removed]",
      "text/plain": [
       "<Figure size 432x288 with 1 Axes>"
      ]
     },
     "metadata": {
      "needs_background": "light"
     },
     "output_type": "display_data"
    }
   ],
   "source": [
    "model = create_model(N_HIDDEN, RESHAPED, DROPOUT, NB_CLASSES)\n",
    "\n",
    "model.load_weights(CHECKPOINT_NAME)\n",
    "\n",
    "history = model.fit(np.array(x_train_transformed), np.array(y_train), batch_size=BATCH_SIZE, epochs=EPOCHS, verbose=VERBOSE, validation_split=VALIDATION_SPLIT)\n",
    "\n",
    "test_loss, test_acc = model.evaluate(np.array(x_test_transformed), np.array(y_test))\n",
    "print()\n",
    "print('Test loss:', test_loss)\n",
    "\n",
    "train_loss = history.history['loss']\n",
    "validation_loss = history.history['val_loss']\n",
    "\n",
    "epochs = range(1, len(validation_loss)+1)\n",
    "\n",
    "fig, ax = plt.subplots()  # Create a figure and an axes.\n",
    "ax.plot(epochs, train_loss, label='train loss')\n",
    "ax.plot(epochs, validation_loss, label='validation loss')\n",
    "ax.set_xlabel('epoch')  # Add an x-label to the axes.\n",
    "ax.set_ylabel('loss')  # Add a y-label to the axes.\n",
    "ax.set_title(\"Simple Plot\")  # Add a title to the axes.\n",
    "ax.legend() \n"
   ]
  },
  {
   "cell_type": "code",
   "execution_count": 5,
   "metadata": {},
   "outputs": [
    {
     "name": "stdout",
     "output_type": "stream",
     "text": [
      "[[99381.12]]\n"
     ]
    },
    {
     "data": {
      "text/plain": [
       "<matplotlib.legend.Legend at 0x7f7ad87ba828>"
      ]
     },
     "execution_count": 5,
     "metadata": {},
     "output_type": "execute_result"
    },
    {
     "data": {
      "image/png": "[encoded data removed]",
      "text/plain": [
       "<Figure size 432x288 with 1 Axes>"
      ]
     },
     "metadata": {
      "needs_background": "light"
     },
     "output_type": "display_data"
    }
   ],
   "source": [
    "CASE_COUNT = 1000000\n",
    "FUTURE_CASES = [CASE_COUNT]\n",
    "FUTURE_CASES_TANSFORMED = [apply_transformation(CASE_COUNT)]\n",
    "FUTURE_PREDICTION = []\n",
    "\n",
    "PREDICTED_CASES = []\n",
    "PREDICTED_DEATHS = []\n",
    "\n",
    "pred_traning_deaths = model.predict(np.array(x_train_transformed))\n",
    "\n",
    "count = 0\n",
    "for deaths in pred_traning_deaths:\n",
    "    PREDICTED_CASES.append(x_train[count])\n",
    "    PREDICTED_DEATHS.append(deaths)\n",
    "    count += 1\n",
    "\n",
    "pred_validation_deaths = model.predict(np.array(x_test_transformed))\n",
    "\n",
    "count = 0\n",
    "for deaths in pred_validation_deaths:\n",
    "    PREDICTED_CASES.append(x_test[count])\n",
    "    PREDICTED_DEATHS.append(deaths)\n",
    "    count += 1\n",
    "\n",
    "pred_deaths = model.predict(FUTURE_CASES_TANSFORMED)\n",
    "\n",
    "for deaths in pred_deaths:\n",
    "    FUTURE_PREDICTION.append(deaths)\n",
    "    \n",
    "print(pred_deaths)\n",
    "fig, ax = plt.subplots()  # Create a figure and an axes.\n",
    "ax.plot(x_train, y_train, label='training data', linewidth=0, marker='.')\n",
    "ax.plot(x_test, y_test, label='test data', linewidth=0, marker='.')\n",
    "ax.plot(PREDICTED_CASES, PREDICTED_DEATHS, label='prediction values', linewidth=0, marker='.')\n",
    "ax.plot(FUTURE_CASES, FUTURE_PREDICTION, label='future prediction', linewidth=0, marker='.')\n",
    "ax.set_xlabel('cases')  # Add an x-label to the axes.\n",
    "ax.set_ylabel('deaths')  # Add a y-label to the axes.\n",
    "ax.legend() "
   ]
  },
  {
   "cell_type": "code",
   "execution_count": null,
   "metadata": {},
   "outputs": [],
   "source": []
  }
 ],
 "metadata": {
  "kernelspec": {
   "display_name": "Python 3",
   "language": "python",
   "name": "python3"
  },
  "language_info": {
   "codemirror_mode": {
    "name": "ipython",
    "version": 3
   },
   "file_extension": ".py",
   "mimetype": "text/x-python",
   "name": "python",
   "nbconvert_exporter": "python",
   "pygments_lexer": "ipython3",
   "version": "3.6.9"
  }
 },
 "nbformat": 4,
 "nbformat_minor": 4
}
