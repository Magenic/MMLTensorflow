{
 "cells": [
  {
   "cell_type": "code",
   "execution_count": 1,
   "metadata": {
    "scrolled": true
   },
   "outputs": [],
   "source": [
    "import tensorflow as tf\n",
    "import pandas as pd\n",
    "import matplotlib.pyplot as plt\n",
    "from tensorflow import keras\n",
    "import numpy as np\n",
    "import math\n",
    "\n",
    "RESHAPED = 1\n",
    "NB_CLASSES = 1\n",
    "DROPOUT = 0.3\n",
    "N_HIDDEN = 512\n",
    "BATCH_SIZE = 15\n",
    "EPOCHS = 10\n",
    "VERBOSE = 1\n",
    "VALIDATION_SPLIT = 0.2\n",
    "CHECKPOINT_NAME = './checkpoints/model03_checkpoint01'\n",
    "\n",
    "TRANSFORMATION = 3\n",
    "\n",
    "DATA_URL = \"https://covid.ourworldindata.org/data/owid-covid-data.csv\"\n",
    "LABEL_COLUMN = 'total_deaths'\n",
    "    \n",
    "file_path = tf.keras.utils.get_file(\"owid-covid-data.csv\", DATA_URL)\n",
    "\n",
    "SELECT_COLUMNS = ['iso_code', 'total_cases', 'total_deaths']\n",
    "DEFAULTS = ['', 0.0, 0.0]\n",
    "\n",
    "def apply_transformation(original_value):\n",
    "    return (original_value/100000)**TRANSFORMATION\n",
    "\n",
    "def get_dataset(file_path, **kwargs):\n",
    "    dataset = tf.data.experimental.make_csv_dataset(\n",
    "      file_path,\n",
    "      batch_size=1, # Artificially small to make examples easier to show.\n",
    "      label_name=LABEL_COLUMN,\n",
    "      na_value=\"?\",\n",
    "      num_epochs=1,\n",
    "      ignore_errors=True, \n",
    "      shuffle=True,\n",
    "      **kwargs)\n",
    "    return dataset\n",
    "\n",
    "covid_dataset = get_dataset(file_path, select_columns=SELECT_COLUMNS, column_defaults = DEFAULTS)\n",
    "            \n",
    "def convert_to_train_test_data(dataset, test_percent = 0.05):\n",
    "    total_deaths = []\n",
    "    transformed_total_cases = []\n",
    "    total_cases = []\n",
    "    for independent, dependent in dataset.as_numpy_iterator():\n",
    "        if independent.get('iso_code')[0] == b'USA':\n",
    "            total_deaths.append(dependent[0])\n",
    "            transformed_total_cases.append([apply_transformation(independent.get('total_cases')[0])])\n",
    "            total_cases.append([independent.get('total_cases')[0]])\n",
    "    testRecordCount = int(round(test_percent*len(total_deaths)))\n",
    "    return transformed_total_cases[testRecordCount:], total_cases[testRecordCount:], total_deaths[testRecordCount:], transformed_total_cases[:testRecordCount], total_cases[:testRecordCount], total_deaths[:testRecordCount]\n",
    "    \n",
    "x_train_transformed, x_train, y_train, x_test_transformed, x_test, y_test = convert_to_train_test_data(covid_dataset, test_percent=0.05)\n",
    "\n",
    "\n",
    "features = ['total_cases']\n",
    "\n",
    "def create_model(hidden_layers, input_shape, dropout, output_classes):\n",
    "    opt = keras.optimizers.RMSprop(learning_rate=0.001)\n",
    "\n",
    "    model = tf.keras.models.Sequential()\n",
    "    model.add(keras.layers.Dense(hidden_layers, input_shape=(input_shape,), name='input_dense_layer',activation='relu'))\n",
    "    model.add(keras.layers.Dropout(dropout))\n",
    "    model.add(keras.layers.Dense(hidden_layers, name='hidden_dense_layer',activation='relu'))\n",
    "    model.add(keras.layers.Dropout(dropout))\n",
    "    model.add(keras.layers.Dense(output_classes, name='output_dense_layer'))\n",
    "    \n",
    "    model.compile(optimizer=opt, loss='mse', metrics=['accuracy'])\n",
    "    \n",
    "    return model"
   ]
  },
  {
   "cell_type": "code",
   "execution_count": 2,
   "metadata": {},
   "outputs": [
    {
     "name": "stdout",
     "output_type": "stream",
     "text": [
      "Train on 86 samples, validate on 22 samples\n",
      "Epoch 1/10\n",
      "86/86 [==============================] - 1s 17ms/sample - loss: 142415187.6047 - accuracy: 0.5116 - val_loss: 26035186.8358 - val_accuracy: 0.0455\n",
      "Epoch 2/10\n",
      "86/86 [==============================] - 0s 867us/sample - loss: 135488334.9462 - accuracy: 0.0233 - val_loss: 24893364.2017 - val_accuracy: 0.0455\n",
      "Epoch 3/10\n",
      "86/86 [==============================] - 0s 919us/sample - loss: 127989020.3314 - accuracy: 0.0000e+00 - val_loss: 23621137.5204 - val_accuracy: 0.0455\n",
      "Epoch 4/10\n",
      "86/86 [==============================] - 0s 925us/sample - loss: 120055237.5814 - accuracy: 0.0000e+00 - val_loss: 22251096.6298 - val_accuracy: 0.0455\n",
      "Epoch 5/10\n",
      "86/86 [==============================] - 0s 846us/sample - loss: 111525319.7209 - accuracy: 0.0000e+00 - val_loss: 20828675.2005 - val_accuracy: 0.0455\n",
      "Epoch 6/10\n",
      "86/86 [==============================] - 0s 838us/sample - loss: 99740437.0640 - accuracy: 0.0000e+00 - val_loss: 19021306.7120 - val_accuracy: 0.0455\n",
      "Epoch 7/10\n",
      "86/86 [==============================] - 0s 864us/sample - loss: 90464877.0073 - accuracy: 0.0000e+00 - val_loss: 17411856.5781 - val_accuracy: 0.0455\n",
      "Epoch 8/10\n",
      "86/86 [==============================] - 0s 877us/sample - loss: 80723423.8140 - accuracy: 0.0000e+00 - val_loss: 15488627.4826 - val_accuracy: 0.0455\n",
      "Epoch 9/10\n",
      "86/86 [==============================] - 0s 871us/sample - loss: 69052974.3029 - accuracy: 0.0000e+00 - val_loss: 13557841.6884 - val_accuracy: 0.0455\n",
      "Epoch 10/10\n",
      "86/86 [==============================] - 0s 895us/sample - loss: 56532554.7326 - accuracy: 0.0000e+00 - val_loss: 11686899.0439 - val_accuracy: 0.0455\n",
      "6/6 [==============================] - 0s 1ms/sample - loss: 64466420.0000 - accuracy: 0.0000e+00\n",
      "\n",
      "Test accuracy: 0.0\n",
      "Test loss: 64466420.0\n"
     ]
    },
    {
     "data": {
      "text/plain": [
       "<matplotlib.legend.Legend at 0x7fd0c8702550>"
      ]
     },
     "execution_count": 2,
     "metadata": {},
     "output_type": "execute_result"
    },
    {
     "data": {
      "image/png": "[encoded data removed]",
      "text/plain": [
       "<Figure size 432x288 with 1 Axes>"
      ]
     },
     "metadata": {
      "needs_background": "light"
     },
     "output_type": "display_data"
    }
   ],
   "source": [
    "model = create_model(N_HIDDEN, RESHAPED, DROPOUT, NB_CLASSES)\n",
    "\n",
    "history = model.fit(np.array(x_train_transformed), np.array(y_train), batch_size=BATCH_SIZE, epochs=EPOCHS, verbose=VERBOSE, validation_split=VALIDATION_SPLIT)\n",
    "\n",
    "model.save_weights(CHECKPOINT_NAME)\n",
    "\n",
    "test_loss, test_acc = model.evaluate(np.array(x_test_transformed), np.array(y_test))\n",
    "print()\n",
    "print('Test accuracy:', test_acc)\n",
    "print('Test loss:', test_loss)\n",
    "\n",
    "train_loss = history.history['loss']\n",
    "validation_loss = history.history['val_loss']\n",
    "\n",
    "epochs = range(1, len(validation_loss)+1)\n",
    "\n",
    "fig, ax = plt.subplots()  # Create a figure and an axes.\n",
    "ax.plot(epochs, train_loss, label='train loss')\n",
    "ax.plot(epochs, validation_loss, label='validation loss')\n",
    "ax.set_xlabel('epoch')  # Add an x-label to the axes.\n",
    "ax.set_ylabel('loss')  # Add a y-label to the axes.\n",
    "ax.set_title(\"Simple Plot\")  # Add a title to the axes.\n",
    "ax.legend() \n"
   ]
  },
  {
   "cell_type": "code",
   "execution_count": 3,
   "metadata": {},
   "outputs": [
    {
     "name": "stdout",
     "output_type": "stream",
     "text": [
      "6/6 [==============================] - 0s 26ms/sample - loss: 160063456.0000 - accuracy: 0.5000\n",
      "\n",
      "Test loss: 160063456.0\n",
      "6/6 [==============================] - 0s 1ms/sample - loss: 64466420.0000 - accuracy: 0.0000e+00\n",
      "\n",
      "Test loss: 64466420.0\n"
     ]
    }
   ],
   "source": [
    "model = create_model(N_HIDDEN, RESHAPED, DROPOUT, NB_CLASSES)\n",
    "\n",
    "test_loss, test_acc = model.evaluate(np.array(x_test_transformed), np.array(y_test))\n",
    "print()\n",
    "print('Test loss:', test_loss)\n",
    "\n",
    "model.load_weights(CHECKPOINT_NAME)\n",
    "\n",
    "test_loss, test_acc = model.evaluate(np.array(x_test_transformed), np.array(y_test))\n",
    "print()\n",
    "print('Test loss:', test_loss)\n",
    "\n"
   ]
  },
  {
   "cell_type": "code",
   "execution_count": 4,
   "metadata": {},
   "outputs": [
    {
     "name": "stdout",
     "output_type": "stream",
     "text": [
      "Train on 86 samples, validate on 22 samples\n",
      "Epoch 1/10\n",
      "86/86 [==============================] - 2s 18ms/sample - loss: 44705129.0465 - accuracy: 0.0000e+00 - val_loss: 9724585.6903 - val_accuracy: 0.0455\n",
      "Epoch 2/10\n",
      "86/86 [==============================] - 0s 920us/sample - loss: 35198548.2674 - accuracy: 0.0000e+00 - val_loss: 8057484.5645 - val_accuracy: 0.0455\n",
      "Epoch 3/10\n",
      "86/86 [==============================] - 0s 908us/sample - loss: 27256687.4767 - accuracy: 0.0000e+00 - val_loss: 6451050.6227 - val_accuracy: 0.0455\n",
      "Epoch 4/10\n",
      "86/86 [==============================] - 0s 1ms/sample - loss: 20161561.8198 - accuracy: 0.0000e+00 - val_loss: 4989854.3077 - val_accuracy: 0.0455\n",
      "Epoch 5/10\n",
      "86/86 [==============================] - 0s 992us/sample - loss: 13283426.6206 - accuracy: 0.0000e+00 - val_loss: 3856779.2587 - val_accuracy: 0.0455\n",
      "Epoch 6/10\n",
      "86/86 [==============================] - 0s 940us/sample - loss: 10295903.2703 - accuracy: 0.0000e+00 - val_loss: 2750032.4977 - val_accuracy: 0.0455\n",
      "Epoch 7/10\n",
      "86/86 [==============================] - 0s 935us/sample - loss: 7631630.7188 - accuracy: 0.0000e+00 - val_loss: 2283358.3013 - val_accuracy: 0.0455\n",
      "Epoch 8/10\n",
      "86/86 [==============================] - 0s 959us/sample - loss: 7057981.0320 - accuracy: 0.0000e+00 - val_loss: 2264085.9755 - val_accuracy: 0.0455\n",
      "Epoch 9/10\n",
      "86/86 [==============================] - 0s 932us/sample - loss: 6889562.3663 - accuracy: 0.0000e+00 - val_loss: 1844043.0854 - val_accuracy: 0.0455\n",
      "Epoch 10/10\n",
      "86/86 [==============================] - 0s 1ms/sample - loss: 6145055.5000 - accuracy: 0.0000e+00 - val_loss: 1614987.2402 - val_accuracy: 0.0455\n",
      "6/6 [==============================] - 0s 2ms/sample - loss: 3893635.7500 - accuracy: 0.0000e+00\n",
      "\n",
      "Test loss: 3893635.75\n"
     ]
    },
    {
     "data": {
      "text/plain": [
       "<matplotlib.legend.Legend at 0x7fd0c073ffd0>"
      ]
     },
     "execution_count": 4,
     "metadata": {},
     "output_type": "execute_result"
    },
    {
     "data": {
      "image/png": "[encoded data removed]",
      "text/plain": [
       "<Figure size 432x288 with 1 Axes>"
      ]
     },
     "metadata": {
      "needs_background": "light"
     },
     "output_type": "display_data"
    }
   ],
   "source": [
    "model = create_model(N_HIDDEN, RESHAPED, DROPOUT, NB_CLASSES)\n",
    "\n",
    "model.load_weights(CHECKPOINT_NAME)\n",
    "\n",
    "history = model.fit(np.array(x_train_transformed), np.array(y_train), batch_size=BATCH_SIZE, epochs=EPOCHS, verbose=VERBOSE, validation_split=VALIDATION_SPLIT)\n",
    "\n",
    "test_loss, test_acc = model.evaluate(np.array(x_test_transformed), np.array(y_test))\n",
    "print()\n",
    "print('Test loss:', test_loss)\n",
    "\n",
    "train_loss = history.history['loss']\n",
    "validation_loss = history.history['val_loss']\n",
    "\n",
    "epochs = range(1, len(validation_loss)+1)\n",
    "\n",
    "fig, ax = plt.subplots()  # Create a figure and an axes.\n",
    "ax.plot(epochs, train_loss, label='train loss')\n",
    "ax.plot(epochs, validation_loss, label='validation loss')\n",
    "ax.set_xlabel('epoch')  # Add an x-label to the axes.\n",
    "ax.set_ylabel('loss')  # Add a y-label to the axes.\n",
    "ax.set_title(\"Simple Plot\")  # Add a title to the axes.\n",
    "ax.legend() \n"
   ]
  },
  {
   "cell_type": "code",
   "execution_count": 6,
   "metadata": {},
   "outputs": [
    {
     "name": "stdout",
     "output_type": "stream",
     "text": [
      "WARNING:tensorflow:Unresolved object in checkpoint: (root).optimizer.iter\n",
      "WARNING:tensorflow:Unresolved object in checkpoint: (root).optimizer.decay\n",
      "WARNING:tensorflow:Unresolved object in checkpoint: (root).optimizer.learning_rate\n",
      "WARNING:tensorflow:Unresolved object in checkpoint: (root).optimizer.momentum\n",
      "WARNING:tensorflow:Unresolved object in checkpoint: (root).optimizer.rho\n",
      "WARNING:tensorflow:A checkpoint was restored (e.g. tf.train.Checkpoint.restore or tf.keras.Model.load_weights) but not all checkpointed values were used. See above for specific issues. Use expect_partial() on the load status object, e.g. tf.train.Checkpoint.restore(...).expect_partial(), to silence these warnings, or use assert_consumed() to make the check explicit. See https://www.tensorflow.org/guide/checkpoint#loading_mechanics for details.\n",
      "[[99693.84]]\n"
     ]
    },
    {
     "data": {
      "text/plain": [
       "<matplotlib.legend.Legend at 0x7fd148a00400>"
      ]
     },
     "execution_count": 6,
     "metadata": {},
     "output_type": "execute_result"
    },
    {
     "data": {
      "image/png": "[encoded data removed]",
      "text/plain": [
       "<Figure size 432x288 with 1 Axes>"
      ]
     },
     "metadata": {
      "needs_background": "light"
     },
     "output_type": "display_data"
    }
   ],
   "source": [
    "CASE_COUNT = 1000000\n",
    "FUTURE_CASES = [CASE_COUNT]\n",
    "FUTURE_CASES_TANSFORMED = [apply_transformation(CASE_COUNT)]\n",
    "FUTURE_PREDICTION = []\n",
    "\n",
    "PREDICTED_CASES = []\n",
    "PREDICTED_DEATHS = []\n",
    "\n",
    "pred_traning_deaths = model.predict(np.array(x_train_transformed))\n",
    "\n",
    "count = 0\n",
    "for deaths in pred_traning_deaths:\n",
    "    PREDICTED_CASES.append(x_train[count])\n",
    "    PREDICTED_DEATHS.append(deaths)\n",
    "    count += 1\n",
    "\n",
    "pred_validation_deaths = model.predict(np.array(x_test_transformed))\n",
    "\n",
    "count = 0\n",
    "for deaths in pred_validation_deaths:\n",
    "    PREDICTED_CASES.append(x_test[count])\n",
    "    PREDICTED_DEATHS.append(deaths)\n",
    "    count += 1\n",
    "\n",
    "pred_deaths = model.predict(FUTURE_CASES_TANSFORMED)\n",
    "\n",
    "for deaths in pred_deaths:\n",
    "    FUTURE_PREDICTION.append(deaths)\n",
    "    \n",
    "print(pred_deaths)\n",
    "fig, ax = plt.subplots()  # Create a figure and an axes.\n",
    "ax.plot(x_train, y_train, label='training data', linewidth=0, marker='.')\n",
    "ax.plot(x_test, y_test, label='test data', linewidth=0, marker='.')\n",
    "ax.plot(PREDICTED_CASES, PREDICTED_DEATHS, label='prediction values', linewidth=0, marker='.')\n",
    "ax.plot(FUTURE_CASES, FUTURE_PREDICTION, label='future prediction', linewidth=0, marker='.')\n",
    "ax.set_xlabel('cases')  # Add an x-label to the axes.\n",
    "ax.set_ylabel('deaths')  # Add a y-label to the axes.\n",
    "ax.legend() "
   ]
  },
  {
   "cell_type": "code",
   "execution_count": null,
   "metadata": {},
   "outputs": [],
   "source": []
  }
 ],
 "metadata": {
  "kernelspec": {
   "display_name": "Python 3",
   "language": "python",
   "name": "python3"
  },
  "language_info": {
   "codemirror_mode": {
    "name": "ipython",
    "version": 3
   },
   "file_extension": ".py",
   "mimetype": "text/x-python",
   "name": "python",
   "nbconvert_exporter": "python",
   "pygments_lexer": "ipython3",
   "version": "3.6.9"
  }
 },
 "nbformat": 4,
 "nbformat_minor": 4
}
