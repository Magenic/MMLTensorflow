{
 "cells": [
  {
   "cell_type": "code",
   "execution_count": 1,
   "metadata": {
    "scrolled": true
   },
   "outputs": [],
   "source": [
    "import tensorflow as tf\n",
    "import pandas as pd\n",
    "from tensorflow import feature_column as fc \n",
    "from tensorflow.keras.datasets import boston_housing\n",
    "import matplotlib.pyplot as plt\n",
    "\n",
    "DATA_URL = \"https://covid.ourworldindata.org/data/owid-covid-data.csv\"\n",
    "LABEL_COLUMN = 'total_deaths'\n",
    "    \n",
    "file_path = tf.keras.utils.get_file(\"owid-covid-data.csv\", DATA_URL)\n",
    "\n",
    "TRANSFORMATION = 3\n",
    "\n",
    "SELECT_COLUMNS = ['iso_code', 'total_cases', 'total_deaths']\n",
    "DEFAULTS = ['', 0.0, 0.0]\n",
    "\n",
    "def apply_transformation(original_value):\n",
    "    return (original_value/100000)**TRANSFORMATION\n",
    "\n",
    "def get_dataset(file_path, **kwargs):\n",
    "    dataset = tf.data.experimental.make_csv_dataset(\n",
    "      file_path,\n",
    "      batch_size=1, # Artificially small to make examples easier to show.\n",
    "      label_name=LABEL_COLUMN,\n",
    "      na_value=\"?\",\n",
    "      num_epochs=1,\n",
    "      ignore_errors=True, \n",
    "      shuffle=True,\n",
    "      **kwargs)\n",
    "    return dataset\n",
    "\n",
    "covid_dataset = get_dataset(file_path, select_columns=SELECT_COLUMNS, column_defaults = DEFAULTS)\n",
    "\n",
    "def convert_to_train_test_data(dataset, test_percent = 0.05):\n",
    "    total_deaths = []\n",
    "    transformed_total_cases = []\n",
    "    total_cases = []\n",
    "    for independent, dependent in dataset.as_numpy_iterator():\n",
    "        if independent.get('iso_code')[0] == b'USA':\n",
    "            total_deaths.append(dependent[0])\n",
    "            transformed_total_cases.append([apply_transformation(independent.get('total_cases')[0])])\n",
    "            total_cases.append([independent.get('total_cases')[0]])\n",
    "    testRecordCount = int(round(test_percent*len(total_deaths)))\n",
    "    return transformed_total_cases[testRecordCount:], total_cases[testRecordCount:], total_deaths[testRecordCount:], transformed_total_cases[:testRecordCount], total_cases[:testRecordCount], total_deaths[:testRecordCount]\n",
    "    \n",
    "x_train_transformed, x_train, y_train, x_test_transformed, x_test, y_test = convert_to_train_test_data(covid_dataset, test_percent=0.05)\n",
    "\n",
    "\n",
    "tf.keras.backend.set_floatx('float64')\n",
    "tf.__version__\n",
    "\n",
    "features = ['total_cases']\n",
    "\n",
    "x_train_df = pd.DataFrame(x_train, columns=features)\n",
    "x_test_df = pd.DataFrame(x_test, columns=features)\n",
    "y_train_df = pd.DataFrame(y_train, columns=['total_deaths'])\n",
    "y_test_df = pd.DataFrame(y_test, columns=['total_deaths'])\n",
    "x_train_df.head()\n",
    "x_test_df.head()\n",
    "\n",
    "feature_columns = []\n",
    "for feature_name in features:\n",
    "    feature_columns.append(fc.numeric_column(feature_name, dtype=tf.float32))\n",
    "    \n",
    "def estimator_input_fn(df_data, df_label, epochs=20, batch_size=64):\n",
    "    def input_function():\n",
    "        ds = tf.data.Dataset.from_tensor_slices((dict(df_data), df_label))\n",
    "        ds = ds.batch(batch_size).repeat(epochs)\n",
    "        return ds\n",
    "    return input_function\n",
    "\n",
    "train_input_fn = estimator_input_fn(x_train_df, y_train_df)\n",
    "val_input_fn = estimator_input_fn(x_test_df, y_test_df, epochs=1)\n",
    "\n"
   ]
  },
  {
   "cell_type": "code",
   "execution_count": 2,
   "metadata": {},
   "outputs": [
    {
     "name": "stdout",
     "output_type": "stream",
     "text": [
      "INFO:tensorflow:Using default config.\n",
      "INFO:tensorflow:Using config: {'_model_dir': 'logs/covid_func/', '_tf_random_seed': None, '_save_summary_steps': 100, '_save_checkpoints_steps': None, '_save_checkpoints_secs': 600, '_session_config': allow_soft_placement: true\n",
      "graph_options {\n",
      "  rewrite_options {\n",
      "    meta_optimizer_iterations: ONE\n",
      "  }\n",
      "}\n",
      ", '_keep_checkpoint_max': 5, '_keep_checkpoint_every_n_hours': 10000, '_log_step_count_steps': 100, '_train_distribute': None, '_device_fn': None, '_protocol': None, '_eval_distribute': None, '_experimental_distribute': None, '_experimental_max_worker_delay_secs': None, '_session_creation_timeout_secs': 7200, '_service': None, '_cluster_spec': ClusterSpec({}), '_task_type': 'worker', '_task_id': 0, '_global_id_in_cluster': 0, '_master': '', '_evaluation_master': '', '_is_chief': True, '_num_ps_replicas': 0, '_num_worker_replicas': 1}\n",
      "WARNING:tensorflow:From /usr/local/lib/python3.6/dist-packages/tensorflow_core/python/ops/resource_variable_ops.py:1635: calling BaseResourceVariable.__init__ (from tensorflow.python.ops.resource_variable_ops) with constraint is deprecated and will be removed in a future version.\n",
      "Instructions for updating:\n",
      "If using Keras pass *_constraint arguments to layers.\n",
      "WARNING:tensorflow:From /usr/local/lib/python3.6/dist-packages/tensorflow_core/python/training/training_util.py:236: Variable.initialized_value (from tensorflow.python.ops.variables) is deprecated and will be removed in a future version.\n",
      "Instructions for updating:\n",
      "Use Variable.read_value. Variables in 2.X are initialized automatically both in eager and graph (inside tf.defun) contexts.\n",
      "INFO:tensorflow:Calling model_fn.\n",
      "WARNING:tensorflow:From /usr/local/lib/python3.6/dist-packages/tensorflow_core/python/feature_column/feature_column_v2.py:518: Layer.add_variable (from tensorflow.python.keras.engine.base_layer) is deprecated and will be removed in a future version.\n",
      "Instructions for updating:\n",
      "Please use `layer.add_weight` method instead.\n",
      "INFO:tensorflow:Done calling model_fn.\n",
      "INFO:tensorflow:Create CheckpointSaverHook.\n",
      "INFO:tensorflow:Graph was finalized.\n",
      "INFO:tensorflow:Running local_init_op.\n",
      "INFO:tensorflow:Done running local_init_op.\n",
      "INFO:tensorflow:Saving checkpoints for 0 into logs/covid_func/model.ckpt.\n",
      "INFO:tensorflow:loss = 121822540.0, step = 0\n",
      "INFO:tensorflow:Saving checkpoints for 40 into logs/covid_func/model.ckpt.\n",
      "INFO:tensorflow:Loss for final step: 13553297.0.\n",
      "training: <tensorflow_estimator.python.estimator.canned.linear.LinearRegressorV2 object at 0x7f95e80d15c0>\n",
      "INFO:tensorflow:Calling model_fn.\n",
      "INFO:tensorflow:Done calling model_fn.\n",
      "INFO:tensorflow:Starting evaluation at 2020-05-12T19:56:34Z\n",
      "INFO:tensorflow:Graph was finalized.\n",
      "INFO:tensorflow:Restoring parameters from logs/covid_func/model.ckpt-40\n",
      "INFO:tensorflow:Running local_init_op.\n",
      "INFO:tensorflow:Done running local_init_op.\n",
      "INFO:tensorflow:Inference Time : 0.60516s\n",
      "INFO:tensorflow:Finished evaluation at 2020-05-12-19:56:34\n",
      "INFO:tensorflow:Saving dict for global step 40: average_loss = 20002384.146174137, global_step = 40, label/mean = 5399.666666666667, loss = 20002384.0, prediction/mean = 8272.872603436312\n",
      "INFO:tensorflow:Saving 'checkpoint_path' summary for global step 40: logs/covid_func/model.ckpt-40\n",
      "{'average_loss': 20002384.146174137, 'label/mean': 5399.666666666667, 'loss': 20002384.0, 'prediction/mean': 8272.872603436312, 'global_step': 40}\n"
     ]
    },
    {
     "data": {
      "text/plain": [
       "<matplotlib.legend.Legend at 0x7f9564175438>"
      ]
     },
     "execution_count": 2,
     "metadata": {},
     "output_type": "execute_result"
    },
    {
     "data": {
      "image/png": "[encoded data removed]",
      "text/plain": [
       "<Figure size 432x288 with 1 Axes>"
      ]
     },
     "metadata": {
      "needs_background": "light"
     },
     "output_type": "display_data"
    }
   ],
   "source": [
    "linear_est = tf.estimator.LinearRegressor(feature_columns=feature_columns, model_dir='logs/covid_func/', optimizer='Adam')\n",
    "training = linear_est.train(train_input_fn, steps=10000)\n",
    "print(\"training:\", training)\n",
    "result = linear_est.evaluate(val_input_fn)\n",
    "print(result)\n",
    "\n",
    "fig, ax = plt.subplots()  # Create a figure and an axes.\n",
    "ax.plot(x_train, y_train, label='training data', linewidth=0, marker='.')\n",
    "ax.plot(x_test, y_test, label='test data', linewidth=0, marker='.')\n",
    "ax.legend()"
   ]
  },
  {
   "cell_type": "code",
   "execution_count": 3,
   "metadata": {},
   "outputs": [
    {
     "name": "stdout",
     "output_type": "stream",
     "text": [
      "INFO:tensorflow:Calling model_fn.\n",
      "INFO:tensorflow:Done calling model_fn.\n",
      "INFO:tensorflow:Graph was finalized.\n",
      "INFO:tensorflow:Restoring parameters from logs/covid_func/model.ckpt-40\n",
      "INFO:tensorflow:Running local_init_op.\n",
      "INFO:tensorflow:Done running local_init_op.\n",
      "INFO:tensorflow:Calling model_fn.\n",
      "INFO:tensorflow:Done calling model_fn.\n",
      "INFO:tensorflow:Graph was finalized.\n",
      "INFO:tensorflow:Restoring parameters from logs/covid_func/model.ckpt-40\n",
      "INFO:tensorflow:Running local_init_op.\n",
      "INFO:tensorflow:Done running local_init_op.\n",
      "INFO:tensorflow:Calling model_fn.\n",
      "INFO:tensorflow:Done calling model_fn.\n",
      "INFO:tensorflow:Graph was finalized.\n",
      "INFO:tensorflow:Restoring parameters from logs/covid_func/model.ckpt-40\n",
      "INFO:tensorflow:Running local_init_op.\n",
      "INFO:tensorflow:Done running local_init_op.\n"
     ]
    },
    {
     "data": {
      "text/plain": [
       "<matplotlib.legend.Legend at 0x7f953c284cc0>"
      ]
     },
     "execution_count": 3,
     "metadata": {},
     "output_type": "execute_result"
    },
    {
     "data": {
      "image/png": "[encoded data removed]",
      "text/plain": [
       "<Figure size 432x288 with 1 Axes>"
      ]
     },
     "metadata": {
      "needs_background": "light"
     },
     "output_type": "display_data"
    }
   ],
   "source": [
    "CASE_COUNT = 1000000\n",
    "FUTURE_CASES = [CASE_COUNT]\n",
    "FUTURE_CASES_TANSFORMED = [apply_transformation(CASE_COUNT)]\n",
    "FUTURE_PREDICTION = []\n",
    "\n",
    "PREDICTED_CASES = []\n",
    "PREDICTED_DEATHS = []\n",
    "x_train_df.head()\n",
    "future_input_fn = estimator_input_fn(pd.DataFrame(FUTURE_CASES, columns=features), pd.DataFrame([0], columns=['total_deaths']), epochs=1)\n",
    "\n",
    "pred_traning_deaths = linear_est.predict(estimator_input_fn(x_train_df, y_train_df, epochs=1))\n",
    "\n",
    "count = 0\n",
    "for pred, exp in zip(pred_traning_deaths, y_train):\n",
    "    PREDICTED_CASES.append(x_train[count])\n",
    "    PREDICTED_DEATHS.append(pred['predictions'][0])\n",
    "    count += 1\n",
    "\n",
    "pred_validation_deaths = linear_est.predict(estimator_input_fn(x_test_df, y_test_df, epochs=1))\n",
    "\n",
    "count = 0\n",
    "for pred, exp in zip(pred_validation_deaths, y_test):\n",
    "    PREDICTED_CASES.append(x_test[count])\n",
    "    PREDICTED_DEATHS.append(pred['predictions'][0])\n",
    "    count += 1\n",
    "\n",
    "pred_deaths = linear_est.predict(future_input_fn)\n",
    "\n",
    "for pred, exp in zip(pred_deaths, FUTURE_CASES):\n",
    "    FUTURE_PREDICTION.append(pred['predictions'][0])\n",
    "    \n",
    "fig, ax = plt.subplots()  # Create a figure and an axes.\n",
    "ax.plot(x_train, y_train, label='training data', linewidth=0, marker='.')\n",
    "ax.plot(x_test, y_test, label='test data', linewidth=0, marker='.')\n",
    "ax.plot(PREDICTED_CASES, PREDICTED_DEATHS, label='prediction values', linewidth=0, marker='.')\n",
    "ax.plot(FUTURE_CASES, FUTURE_PREDICTION, label='future prediction', linewidth=0, marker='.')\n",
    "ax.set_xlabel('cases')  # Add an x-label to the axes.\n",
    "ax.set_ylabel('deaths')  # Add a y-label to the axes.\n",
    "ax.legend() \n",
    "\n"
   ]
  },
  {
   "cell_type": "code",
   "execution_count": null,
   "metadata": {},
   "outputs": [],
   "source": []
  }
 ],
 "metadata": {
  "kernelspec": {
   "display_name": "Python 3",
   "language": "python",
   "name": "python3"
  },
  "language_info": {
   "codemirror_mode": {
    "name": "ipython",
    "version": 3
   },
   "file_extension": ".py",
   "mimetype": "text/x-python",
   "name": "python",
   "nbconvert_exporter": "python",
   "pygments_lexer": "ipython3",
   "version": "3.6.9"
  }
 },
 "nbformat": 4,
 "nbformat_minor": 4
}
